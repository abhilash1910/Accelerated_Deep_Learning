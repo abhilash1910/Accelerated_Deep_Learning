{
  "nbformat": 4,
  "nbformat_minor": 0,
  "metadata": {
    "colab": {
      "name": "Torch_JIT_Tracing_BERT_Large.ipynb",
      "provenance": [],
      "authorship_tag": "ABX9TyPohSlA1GM9NagZdrMDk98o",
      "include_colab_link": true
    },
    "kernelspec": {
      "name": "python3",
      "display_name": "Python 3"
    },
    "language_info": {
      "name": "python"
    },
    "accelerator": "GPU",
    "gpuClass": "standard",
    "widgets": {
      "application/vnd.jupyter.widget-state+json": {
        "17c32f93315948f3a7171f594e589034": {
          "model_module": "@jupyter-widgets/controls",
          "model_name": "HBoxModel",
          "model_module_version": "1.5.0",
          "state": {
            "_dom_classes": [],
            "_model_module": "@jupyter-widgets/controls",
            "_model_module_version": "1.5.0",
            "_model_name": "HBoxModel",
            "_view_count": null,
            "_view_module": "@jupyter-widgets/controls",
            "_view_module_version": "1.5.0",
            "_view_name": "HBoxView",
            "box_style": "",
            "children": [
              "IPY_MODEL_5cded3cad0b94813953cdff0425b6cdd",
              "IPY_MODEL_e95fdcce3a564cc4981fe90dd356743d",
              "IPY_MODEL_bf3141ee5f2d468392bbbd36f27816f4"
            ],
            "layout": "IPY_MODEL_17b543e9f6b046d9ab6d7f93e2e3d3d5"
          }
        },
        "5cded3cad0b94813953cdff0425b6cdd": {
          "model_module": "@jupyter-widgets/controls",
          "model_name": "HTMLModel",
          "model_module_version": "1.5.0",
          "state": {
            "_dom_classes": [],
            "_model_module": "@jupyter-widgets/controls",
            "_model_module_version": "1.5.0",
            "_model_name": "HTMLModel",
            "_view_count": null,
            "_view_module": "@jupyter-widgets/controls",
            "_view_module_version": "1.5.0",
            "_view_name": "HTMLView",
            "description": "",
            "description_tooltip": null,
            "layout": "IPY_MODEL_75b3bd09dbb3429db66a65b00ee7f574",
            "placeholder": "​",
            "style": "IPY_MODEL_2baabc43910848adb572f15f1f6ace3c",
            "value": "Downloading: 100%"
          }
        },
        "e95fdcce3a564cc4981fe90dd356743d": {
          "model_module": "@jupyter-widgets/controls",
          "model_name": "FloatProgressModel",
          "model_module_version": "1.5.0",
          "state": {
            "_dom_classes": [],
            "_model_module": "@jupyter-widgets/controls",
            "_model_module_version": "1.5.0",
            "_model_name": "FloatProgressModel",
            "_view_count": null,
            "_view_module": "@jupyter-widgets/controls",
            "_view_module_version": "1.5.0",
            "_view_name": "ProgressView",
            "bar_style": "success",
            "description": "",
            "description_tooltip": null,
            "layout": "IPY_MODEL_9b41e02fb4e04fd4b8ac9db621bc5e0f",
            "max": 231508,
            "min": 0,
            "orientation": "horizontal",
            "style": "IPY_MODEL_03c70e03f6ce42fbaec1b3911f4900fe",
            "value": 231508
          }
        },
        "bf3141ee5f2d468392bbbd36f27816f4": {
          "model_module": "@jupyter-widgets/controls",
          "model_name": "HTMLModel",
          "model_module_version": "1.5.0",
          "state": {
            "_dom_classes": [],
            "_model_module": "@jupyter-widgets/controls",
            "_model_module_version": "1.5.0",
            "_model_name": "HTMLModel",
            "_view_count": null,
            "_view_module": "@jupyter-widgets/controls",
            "_view_module_version": "1.5.0",
            "_view_name": "HTMLView",
            "description": "",
            "description_tooltip": null,
            "layout": "IPY_MODEL_d3e61a96b5354a488b8238b0dbf09eb4",
            "placeholder": "​",
            "style": "IPY_MODEL_b1b16f83f97d41a889ccf65166a52b70",
            "value": " 226k/226k [00:00&lt;00:00, 784kB/s]"
          }
        },
        "17b543e9f6b046d9ab6d7f93e2e3d3d5": {
          "model_module": "@jupyter-widgets/base",
          "model_name": "LayoutModel",
          "model_module_version": "1.2.0",
          "state": {
            "_model_module": "@jupyter-widgets/base",
            "_model_module_version": "1.2.0",
            "_model_name": "LayoutModel",
            "_view_count": null,
            "_view_module": "@jupyter-widgets/base",
            "_view_module_version": "1.2.0",
            "_view_name": "LayoutView",
            "align_content": null,
            "align_items": null,
            "align_self": null,
            "border": null,
            "bottom": null,
            "display": null,
            "flex": null,
            "flex_flow": null,
            "grid_area": null,
            "grid_auto_columns": null,
            "grid_auto_flow": null,
            "grid_auto_rows": null,
            "grid_column": null,
            "grid_gap": null,
            "grid_row": null,
            "grid_template_areas": null,
            "grid_template_columns": null,
            "grid_template_rows": null,
            "height": null,
            "justify_content": null,
            "justify_items": null,
            "left": null,
            "margin": null,
            "max_height": null,
            "max_width": null,
            "min_height": null,
            "min_width": null,
            "object_fit": null,
            "object_position": null,
            "order": null,
            "overflow": null,
            "overflow_x": null,
            "overflow_y": null,
            "padding": null,
            "right": null,
            "top": null,
            "visibility": null,
            "width": null
          }
        },
        "75b3bd09dbb3429db66a65b00ee7f574": {
          "model_module": "@jupyter-widgets/base",
          "model_name": "LayoutModel",
          "model_module_version": "1.2.0",
          "state": {
            "_model_module": "@jupyter-widgets/base",
            "_model_module_version": "1.2.0",
            "_model_name": "LayoutModel",
            "_view_count": null,
            "_view_module": "@jupyter-widgets/base",
            "_view_module_version": "1.2.0",
            "_view_name": "LayoutView",
            "align_content": null,
            "align_items": null,
            "align_self": null,
            "border": null,
            "bottom": null,
            "display": null,
            "flex": null,
            "flex_flow": null,
            "grid_area": null,
            "grid_auto_columns": null,
            "grid_auto_flow": null,
            "grid_auto_rows": null,
            "grid_column": null,
            "grid_gap": null,
            "grid_row": null,
            "grid_template_areas": null,
            "grid_template_columns": null,
            "grid_template_rows": null,
            "height": null,
            "justify_content": null,
            "justify_items": null,
            "left": null,
            "margin": null,
            "max_height": null,
            "max_width": null,
            "min_height": null,
            "min_width": null,
            "object_fit": null,
            "object_position": null,
            "order": null,
            "overflow": null,
            "overflow_x": null,
            "overflow_y": null,
            "padding": null,
            "right": null,
            "top": null,
            "visibility": null,
            "width": null
          }
        },
        "2baabc43910848adb572f15f1f6ace3c": {
          "model_module": "@jupyter-widgets/controls",
          "model_name": "DescriptionStyleModel",
          "model_module_version": "1.5.0",
          "state": {
            "_model_module": "@jupyter-widgets/controls",
            "_model_module_version": "1.5.0",
            "_model_name": "DescriptionStyleModel",
            "_view_count": null,
            "_view_module": "@jupyter-widgets/base",
            "_view_module_version": "1.2.0",
            "_view_name": "StyleView",
            "description_width": ""
          }
        },
        "9b41e02fb4e04fd4b8ac9db621bc5e0f": {
          "model_module": "@jupyter-widgets/base",
          "model_name": "LayoutModel",
          "model_module_version": "1.2.0",
          "state": {
            "_model_module": "@jupyter-widgets/base",
            "_model_module_version": "1.2.0",
            "_model_name": "LayoutModel",
            "_view_count": null,
            "_view_module": "@jupyter-widgets/base",
            "_view_module_version": "1.2.0",
            "_view_name": "LayoutView",
            "align_content": null,
            "align_items": null,
            "align_self": null,
            "border": null,
            "bottom": null,
            "display": null,
            "flex": null,
            "flex_flow": null,
            "grid_area": null,
            "grid_auto_columns": null,
            "grid_auto_flow": null,
            "grid_auto_rows": null,
            "grid_column": null,
            "grid_gap": null,
            "grid_row": null,
            "grid_template_areas": null,
            "grid_template_columns": null,
            "grid_template_rows": null,
            "height": null,
            "justify_content": null,
            "justify_items": null,
            "left": null,
            "margin": null,
            "max_height": null,
            "max_width": null,
            "min_height": null,
            "min_width": null,
            "object_fit": null,
            "object_position": null,
            "order": null,
            "overflow": null,
            "overflow_x": null,
            "overflow_y": null,
            "padding": null,
            "right": null,
            "top": null,
            "visibility": null,
            "width": null
          }
        },
        "03c70e03f6ce42fbaec1b3911f4900fe": {
          "model_module": "@jupyter-widgets/controls",
          "model_name": "ProgressStyleModel",
          "model_module_version": "1.5.0",
          "state": {
            "_model_module": "@jupyter-widgets/controls",
            "_model_module_version": "1.5.0",
            "_model_name": "ProgressStyleModel",
            "_view_count": null,
            "_view_module": "@jupyter-widgets/base",
            "_view_module_version": "1.2.0",
            "_view_name": "StyleView",
            "bar_color": null,
            "description_width": ""
          }
        },
        "d3e61a96b5354a488b8238b0dbf09eb4": {
          "model_module": "@jupyter-widgets/base",
          "model_name": "LayoutModel",
          "model_module_version": "1.2.0",
          "state": {
            "_model_module": "@jupyter-widgets/base",
            "_model_module_version": "1.2.0",
            "_model_name": "LayoutModel",
            "_view_count": null,
            "_view_module": "@jupyter-widgets/base",
            "_view_module_version": "1.2.0",
            "_view_name": "LayoutView",
            "align_content": null,
            "align_items": null,
            "align_self": null,
            "border": null,
            "bottom": null,
            "display": null,
            "flex": null,
            "flex_flow": null,
            "grid_area": null,
            "grid_auto_columns": null,
            "grid_auto_flow": null,
            "grid_auto_rows": null,
            "grid_column": null,
            "grid_gap": null,
            "grid_row": null,
            "grid_template_areas": null,
            "grid_template_columns": null,
            "grid_template_rows": null,
            "height": null,
            "justify_content": null,
            "justify_items": null,
            "left": null,
            "margin": null,
            "max_height": null,
            "max_width": null,
            "min_height": null,
            "min_width": null,
            "object_fit": null,
            "object_position": null,
            "order": null,
            "overflow": null,
            "overflow_x": null,
            "overflow_y": null,
            "padding": null,
            "right": null,
            "top": null,
            "visibility": null,
            "width": null
          }
        },
        "b1b16f83f97d41a889ccf65166a52b70": {
          "model_module": "@jupyter-widgets/controls",
          "model_name": "DescriptionStyleModel",
          "model_module_version": "1.5.0",
          "state": {
            "_model_module": "@jupyter-widgets/controls",
            "_model_module_version": "1.5.0",
            "_model_name": "DescriptionStyleModel",
            "_view_count": null,
            "_view_module": "@jupyter-widgets/base",
            "_view_module_version": "1.2.0",
            "_view_name": "StyleView",
            "description_width": ""
          }
        },
        "a3ededb40b08487485b45d8afde49bd1": {
          "model_module": "@jupyter-widgets/controls",
          "model_name": "HBoxModel",
          "model_module_version": "1.5.0",
          "state": {
            "_dom_classes": [],
            "_model_module": "@jupyter-widgets/controls",
            "_model_module_version": "1.5.0",
            "_model_name": "HBoxModel",
            "_view_count": null,
            "_view_module": "@jupyter-widgets/controls",
            "_view_module_version": "1.5.0",
            "_view_name": "HBoxView",
            "box_style": "",
            "children": [
              "IPY_MODEL_9301b8e37b5d40cab99e086e108eb5b2",
              "IPY_MODEL_1ebf682f39804328ad0208b5b93c9190",
              "IPY_MODEL_ce8f5dc1e8e7481d8d86bc50cfabe6cd"
            ],
            "layout": "IPY_MODEL_c95b388199d446aca3e5c3527fb57edf"
          }
        },
        "9301b8e37b5d40cab99e086e108eb5b2": {
          "model_module": "@jupyter-widgets/controls",
          "model_name": "HTMLModel",
          "model_module_version": "1.5.0",
          "state": {
            "_dom_classes": [],
            "_model_module": "@jupyter-widgets/controls",
            "_model_module_version": "1.5.0",
            "_model_name": "HTMLModel",
            "_view_count": null,
            "_view_module": "@jupyter-widgets/controls",
            "_view_module_version": "1.5.0",
            "_view_name": "HTMLView",
            "description": "",
            "description_tooltip": null,
            "layout": "IPY_MODEL_ccd873d361004221ac552fd1b2528360",
            "placeholder": "​",
            "style": "IPY_MODEL_53e1a072d3f84ca6896b276d22b4547c",
            "value": "Downloading: 100%"
          }
        },
        "1ebf682f39804328ad0208b5b93c9190": {
          "model_module": "@jupyter-widgets/controls",
          "model_name": "FloatProgressModel",
          "model_module_version": "1.5.0",
          "state": {
            "_dom_classes": [],
            "_model_module": "@jupyter-widgets/controls",
            "_model_module_version": "1.5.0",
            "_model_name": "FloatProgressModel",
            "_view_count": null,
            "_view_module": "@jupyter-widgets/controls",
            "_view_module_version": "1.5.0",
            "_view_name": "ProgressView",
            "bar_style": "success",
            "description": "",
            "description_tooltip": null,
            "layout": "IPY_MODEL_d45c3987c72e44a8aa6b6ee446d94cee",
            "max": 28,
            "min": 0,
            "orientation": "horizontal",
            "style": "IPY_MODEL_c37d4a88fe9b4bf188a5c3ec9f3f1224",
            "value": 28
          }
        },
        "ce8f5dc1e8e7481d8d86bc50cfabe6cd": {
          "model_module": "@jupyter-widgets/controls",
          "model_name": "HTMLModel",
          "model_module_version": "1.5.0",
          "state": {
            "_dom_classes": [],
            "_model_module": "@jupyter-widgets/controls",
            "_model_module_version": "1.5.0",
            "_model_name": "HTMLModel",
            "_view_count": null,
            "_view_module": "@jupyter-widgets/controls",
            "_view_module_version": "1.5.0",
            "_view_name": "HTMLView",
            "description": "",
            "description_tooltip": null,
            "layout": "IPY_MODEL_e1c7fd2d238440fa82cc91bb25364b64",
            "placeholder": "​",
            "style": "IPY_MODEL_f10a4894bb104ec3a15167d7843a21d8",
            "value": " 28.0/28.0 [00:00&lt;00:00, 763B/s]"
          }
        },
        "c95b388199d446aca3e5c3527fb57edf": {
          "model_module": "@jupyter-widgets/base",
          "model_name": "LayoutModel",
          "model_module_version": "1.2.0",
          "state": {
            "_model_module": "@jupyter-widgets/base",
            "_model_module_version": "1.2.0",
            "_model_name": "LayoutModel",
            "_view_count": null,
            "_view_module": "@jupyter-widgets/base",
            "_view_module_version": "1.2.0",
            "_view_name": "LayoutView",
            "align_content": null,
            "align_items": null,
            "align_self": null,
            "border": null,
            "bottom": null,
            "display": null,
            "flex": null,
            "flex_flow": null,
            "grid_area": null,
            "grid_auto_columns": null,
            "grid_auto_flow": null,
            "grid_auto_rows": null,
            "grid_column": null,
            "grid_gap": null,
            "grid_row": null,
            "grid_template_areas": null,
            "grid_template_columns": null,
            "grid_template_rows": null,
            "height": null,
            "justify_content": null,
            "justify_items": null,
            "left": null,
            "margin": null,
            "max_height": null,
            "max_width": null,
            "min_height": null,
            "min_width": null,
            "object_fit": null,
            "object_position": null,
            "order": null,
            "overflow": null,
            "overflow_x": null,
            "overflow_y": null,
            "padding": null,
            "right": null,
            "top": null,
            "visibility": null,
            "width": null
          }
        },
        "ccd873d361004221ac552fd1b2528360": {
          "model_module": "@jupyter-widgets/base",
          "model_name": "LayoutModel",
          "model_module_version": "1.2.0",
          "state": {
            "_model_module": "@jupyter-widgets/base",
            "_model_module_version": "1.2.0",
            "_model_name": "LayoutModel",
            "_view_count": null,
            "_view_module": "@jupyter-widgets/base",
            "_view_module_version": "1.2.0",
            "_view_name": "LayoutView",
            "align_content": null,
            "align_items": null,
            "align_self": null,
            "border": null,
            "bottom": null,
            "display": null,
            "flex": null,
            "flex_flow": null,
            "grid_area": null,
            "grid_auto_columns": null,
            "grid_auto_flow": null,
            "grid_auto_rows": null,
            "grid_column": null,
            "grid_gap": null,
            "grid_row": null,
            "grid_template_areas": null,
            "grid_template_columns": null,
            "grid_template_rows": null,
            "height": null,
            "justify_content": null,
            "justify_items": null,
            "left": null,
            "margin": null,
            "max_height": null,
            "max_width": null,
            "min_height": null,
            "min_width": null,
            "object_fit": null,
            "object_position": null,
            "order": null,
            "overflow": null,
            "overflow_x": null,
            "overflow_y": null,
            "padding": null,
            "right": null,
            "top": null,
            "visibility": null,
            "width": null
          }
        },
        "53e1a072d3f84ca6896b276d22b4547c": {
          "model_module": "@jupyter-widgets/controls",
          "model_name": "DescriptionStyleModel",
          "model_module_version": "1.5.0",
          "state": {
            "_model_module": "@jupyter-widgets/controls",
            "_model_module_version": "1.5.0",
            "_model_name": "DescriptionStyleModel",
            "_view_count": null,
            "_view_module": "@jupyter-widgets/base",
            "_view_module_version": "1.2.0",
            "_view_name": "StyleView",
            "description_width": ""
          }
        },
        "d45c3987c72e44a8aa6b6ee446d94cee": {
          "model_module": "@jupyter-widgets/base",
          "model_name": "LayoutModel",
          "model_module_version": "1.2.0",
          "state": {
            "_model_module": "@jupyter-widgets/base",
            "_model_module_version": "1.2.0",
            "_model_name": "LayoutModel",
            "_view_count": null,
            "_view_module": "@jupyter-widgets/base",
            "_view_module_version": "1.2.0",
            "_view_name": "LayoutView",
            "align_content": null,
            "align_items": null,
            "align_self": null,
            "border": null,
            "bottom": null,
            "display": null,
            "flex": null,
            "flex_flow": null,
            "grid_area": null,
            "grid_auto_columns": null,
            "grid_auto_flow": null,
            "grid_auto_rows": null,
            "grid_column": null,
            "grid_gap": null,
            "grid_row": null,
            "grid_template_areas": null,
            "grid_template_columns": null,
            "grid_template_rows": null,
            "height": null,
            "justify_content": null,
            "justify_items": null,
            "left": null,
            "margin": null,
            "max_height": null,
            "max_width": null,
            "min_height": null,
            "min_width": null,
            "object_fit": null,
            "object_position": null,
            "order": null,
            "overflow": null,
            "overflow_x": null,
            "overflow_y": null,
            "padding": null,
            "right": null,
            "top": null,
            "visibility": null,
            "width": null
          }
        },
        "c37d4a88fe9b4bf188a5c3ec9f3f1224": {
          "model_module": "@jupyter-widgets/controls",
          "model_name": "ProgressStyleModel",
          "model_module_version": "1.5.0",
          "state": {
            "_model_module": "@jupyter-widgets/controls",
            "_model_module_version": "1.5.0",
            "_model_name": "ProgressStyleModel",
            "_view_count": null,
            "_view_module": "@jupyter-widgets/base",
            "_view_module_version": "1.2.0",
            "_view_name": "StyleView",
            "bar_color": null,
            "description_width": ""
          }
        },
        "e1c7fd2d238440fa82cc91bb25364b64": {
          "model_module": "@jupyter-widgets/base",
          "model_name": "LayoutModel",
          "model_module_version": "1.2.0",
          "state": {
            "_model_module": "@jupyter-widgets/base",
            "_model_module_version": "1.2.0",
            "_model_name": "LayoutModel",
            "_view_count": null,
            "_view_module": "@jupyter-widgets/base",
            "_view_module_version": "1.2.0",
            "_view_name": "LayoutView",
            "align_content": null,
            "align_items": null,
            "align_self": null,
            "border": null,
            "bottom": null,
            "display": null,
            "flex": null,
            "flex_flow": null,
            "grid_area": null,
            "grid_auto_columns": null,
            "grid_auto_flow": null,
            "grid_auto_rows": null,
            "grid_column": null,
            "grid_gap": null,
            "grid_row": null,
            "grid_template_areas": null,
            "grid_template_columns": null,
            "grid_template_rows": null,
            "height": null,
            "justify_content": null,
            "justify_items": null,
            "left": null,
            "margin": null,
            "max_height": null,
            "max_width": null,
            "min_height": null,
            "min_width": null,
            "object_fit": null,
            "object_position": null,
            "order": null,
            "overflow": null,
            "overflow_x": null,
            "overflow_y": null,
            "padding": null,
            "right": null,
            "top": null,
            "visibility": null,
            "width": null
          }
        },
        "f10a4894bb104ec3a15167d7843a21d8": {
          "model_module": "@jupyter-widgets/controls",
          "model_name": "DescriptionStyleModel",
          "model_module_version": "1.5.0",
          "state": {
            "_model_module": "@jupyter-widgets/controls",
            "_model_module_version": "1.5.0",
            "_model_name": "DescriptionStyleModel",
            "_view_count": null,
            "_view_module": "@jupyter-widgets/base",
            "_view_module_version": "1.2.0",
            "_view_name": "StyleView",
            "description_width": ""
          }
        },
        "888f8eeaae944543a64d7256d92ad9bc": {
          "model_module": "@jupyter-widgets/controls",
          "model_name": "HBoxModel",
          "model_module_version": "1.5.0",
          "state": {
            "_dom_classes": [],
            "_model_module": "@jupyter-widgets/controls",
            "_model_module_version": "1.5.0",
            "_model_name": "HBoxModel",
            "_view_count": null,
            "_view_module": "@jupyter-widgets/controls",
            "_view_module_version": "1.5.0",
            "_view_name": "HBoxView",
            "box_style": "",
            "children": [
              "IPY_MODEL_7e7abcdfe4434209a6e9db52bdd2c890",
              "IPY_MODEL_26e1fc52890848b2a98d69e458ba50a2",
              "IPY_MODEL_37670407430c4e12bcf510cdd0228f7e"
            ],
            "layout": "IPY_MODEL_e7108e5593324734a8e1208b7739e76d"
          }
        },
        "7e7abcdfe4434209a6e9db52bdd2c890": {
          "model_module": "@jupyter-widgets/controls",
          "model_name": "HTMLModel",
          "model_module_version": "1.5.0",
          "state": {
            "_dom_classes": [],
            "_model_module": "@jupyter-widgets/controls",
            "_model_module_version": "1.5.0",
            "_model_name": "HTMLModel",
            "_view_count": null,
            "_view_module": "@jupyter-widgets/controls",
            "_view_module_version": "1.5.0",
            "_view_name": "HTMLView",
            "description": "",
            "description_tooltip": null,
            "layout": "IPY_MODEL_b2eb49550d534708bf196f4aab330bf5",
            "placeholder": "​",
            "style": "IPY_MODEL_4dcaf848ac42443f941604545aa5c20c",
            "value": "Downloading: 100%"
          }
        },
        "26e1fc52890848b2a98d69e458ba50a2": {
          "model_module": "@jupyter-widgets/controls",
          "model_name": "FloatProgressModel",
          "model_module_version": "1.5.0",
          "state": {
            "_dom_classes": [],
            "_model_module": "@jupyter-widgets/controls",
            "_model_module_version": "1.5.0",
            "_model_name": "FloatProgressModel",
            "_view_count": null,
            "_view_module": "@jupyter-widgets/controls",
            "_view_module_version": "1.5.0",
            "_view_name": "ProgressView",
            "bar_style": "success",
            "description": "",
            "description_tooltip": null,
            "layout": "IPY_MODEL_a5e1ea940f604b03a266f20bdb0dbe30",
            "max": 571,
            "min": 0,
            "orientation": "horizontal",
            "style": "IPY_MODEL_670589d6bd2c40c19606856134863e9f",
            "value": 571
          }
        },
        "37670407430c4e12bcf510cdd0228f7e": {
          "model_module": "@jupyter-widgets/controls",
          "model_name": "HTMLModel",
          "model_module_version": "1.5.0",
          "state": {
            "_dom_classes": [],
            "_model_module": "@jupyter-widgets/controls",
            "_model_module_version": "1.5.0",
            "_model_name": "HTMLModel",
            "_view_count": null,
            "_view_module": "@jupyter-widgets/controls",
            "_view_module_version": "1.5.0",
            "_view_name": "HTMLView",
            "description": "",
            "description_tooltip": null,
            "layout": "IPY_MODEL_9f88c5b176ee4556871a593ee04538e5",
            "placeholder": "​",
            "style": "IPY_MODEL_09d023f8adab40a982d41bf57886f730",
            "value": " 571/571 [00:00&lt;00:00, 18.1kB/s]"
          }
        },
        "e7108e5593324734a8e1208b7739e76d": {
          "model_module": "@jupyter-widgets/base",
          "model_name": "LayoutModel",
          "model_module_version": "1.2.0",
          "state": {
            "_model_module": "@jupyter-widgets/base",
            "_model_module_version": "1.2.0",
            "_model_name": "LayoutModel",
            "_view_count": null,
            "_view_module": "@jupyter-widgets/base",
            "_view_module_version": "1.2.0",
            "_view_name": "LayoutView",
            "align_content": null,
            "align_items": null,
            "align_self": null,
            "border": null,
            "bottom": null,
            "display": null,
            "flex": null,
            "flex_flow": null,
            "grid_area": null,
            "grid_auto_columns": null,
            "grid_auto_flow": null,
            "grid_auto_rows": null,
            "grid_column": null,
            "grid_gap": null,
            "grid_row": null,
            "grid_template_areas": null,
            "grid_template_columns": null,
            "grid_template_rows": null,
            "height": null,
            "justify_content": null,
            "justify_items": null,
            "left": null,
            "margin": null,
            "max_height": null,
            "max_width": null,
            "min_height": null,
            "min_width": null,
            "object_fit": null,
            "object_position": null,
            "order": null,
            "overflow": null,
            "overflow_x": null,
            "overflow_y": null,
            "padding": null,
            "right": null,
            "top": null,
            "visibility": null,
            "width": null
          }
        },
        "b2eb49550d534708bf196f4aab330bf5": {
          "model_module": "@jupyter-widgets/base",
          "model_name": "LayoutModel",
          "model_module_version": "1.2.0",
          "state": {
            "_model_module": "@jupyter-widgets/base",
            "_model_module_version": "1.2.0",
            "_model_name": "LayoutModel",
            "_view_count": null,
            "_view_module": "@jupyter-widgets/base",
            "_view_module_version": "1.2.0",
            "_view_name": "LayoutView",
            "align_content": null,
            "align_items": null,
            "align_self": null,
            "border": null,
            "bottom": null,
            "display": null,
            "flex": null,
            "flex_flow": null,
            "grid_area": null,
            "grid_auto_columns": null,
            "grid_auto_flow": null,
            "grid_auto_rows": null,
            "grid_column": null,
            "grid_gap": null,
            "grid_row": null,
            "grid_template_areas": null,
            "grid_template_columns": null,
            "grid_template_rows": null,
            "height": null,
            "justify_content": null,
            "justify_items": null,
            "left": null,
            "margin": null,
            "max_height": null,
            "max_width": null,
            "min_height": null,
            "min_width": null,
            "object_fit": null,
            "object_position": null,
            "order": null,
            "overflow": null,
            "overflow_x": null,
            "overflow_y": null,
            "padding": null,
            "right": null,
            "top": null,
            "visibility": null,
            "width": null
          }
        },
        "4dcaf848ac42443f941604545aa5c20c": {
          "model_module": "@jupyter-widgets/controls",
          "model_name": "DescriptionStyleModel",
          "model_module_version": "1.5.0",
          "state": {
            "_model_module": "@jupyter-widgets/controls",
            "_model_module_version": "1.5.0",
            "_model_name": "DescriptionStyleModel",
            "_view_count": null,
            "_view_module": "@jupyter-widgets/base",
            "_view_module_version": "1.2.0",
            "_view_name": "StyleView",
            "description_width": ""
          }
        },
        "a5e1ea940f604b03a266f20bdb0dbe30": {
          "model_module": "@jupyter-widgets/base",
          "model_name": "LayoutModel",
          "model_module_version": "1.2.0",
          "state": {
            "_model_module": "@jupyter-widgets/base",
            "_model_module_version": "1.2.0",
            "_model_name": "LayoutModel",
            "_view_count": null,
            "_view_module": "@jupyter-widgets/base",
            "_view_module_version": "1.2.0",
            "_view_name": "LayoutView",
            "align_content": null,
            "align_items": null,
            "align_self": null,
            "border": null,
            "bottom": null,
            "display": null,
            "flex": null,
            "flex_flow": null,
            "grid_area": null,
            "grid_auto_columns": null,
            "grid_auto_flow": null,
            "grid_auto_rows": null,
            "grid_column": null,
            "grid_gap": null,
            "grid_row": null,
            "grid_template_areas": null,
            "grid_template_columns": null,
            "grid_template_rows": null,
            "height": null,
            "justify_content": null,
            "justify_items": null,
            "left": null,
            "margin": null,
            "max_height": null,
            "max_width": null,
            "min_height": null,
            "min_width": null,
            "object_fit": null,
            "object_position": null,
            "order": null,
            "overflow": null,
            "overflow_x": null,
            "overflow_y": null,
            "padding": null,
            "right": null,
            "top": null,
            "visibility": null,
            "width": null
          }
        },
        "670589d6bd2c40c19606856134863e9f": {
          "model_module": "@jupyter-widgets/controls",
          "model_name": "ProgressStyleModel",
          "model_module_version": "1.5.0",
          "state": {
            "_model_module": "@jupyter-widgets/controls",
            "_model_module_version": "1.5.0",
            "_model_name": "ProgressStyleModel",
            "_view_count": null,
            "_view_module": "@jupyter-widgets/base",
            "_view_module_version": "1.2.0",
            "_view_name": "StyleView",
            "bar_color": null,
            "description_width": ""
          }
        },
        "9f88c5b176ee4556871a593ee04538e5": {
          "model_module": "@jupyter-widgets/base",
          "model_name": "LayoutModel",
          "model_module_version": "1.2.0",
          "state": {
            "_model_module": "@jupyter-widgets/base",
            "_model_module_version": "1.2.0",
            "_model_name": "LayoutModel",
            "_view_count": null,
            "_view_module": "@jupyter-widgets/base",
            "_view_module_version": "1.2.0",
            "_view_name": "LayoutView",
            "align_content": null,
            "align_items": null,
            "align_self": null,
            "border": null,
            "bottom": null,
            "display": null,
            "flex": null,
            "flex_flow": null,
            "grid_area": null,
            "grid_auto_columns": null,
            "grid_auto_flow": null,
            "grid_auto_rows": null,
            "grid_column": null,
            "grid_gap": null,
            "grid_row": null,
            "grid_template_areas": null,
            "grid_template_columns": null,
            "grid_template_rows": null,
            "height": null,
            "justify_content": null,
            "justify_items": null,
            "left": null,
            "margin": null,
            "max_height": null,
            "max_width": null,
            "min_height": null,
            "min_width": null,
            "object_fit": null,
            "object_position": null,
            "order": null,
            "overflow": null,
            "overflow_x": null,
            "overflow_y": null,
            "padding": null,
            "right": null,
            "top": null,
            "visibility": null,
            "width": null
          }
        },
        "09d023f8adab40a982d41bf57886f730": {
          "model_module": "@jupyter-widgets/controls",
          "model_name": "DescriptionStyleModel",
          "model_module_version": "1.5.0",
          "state": {
            "_model_module": "@jupyter-widgets/controls",
            "_model_module_version": "1.5.0",
            "_model_name": "DescriptionStyleModel",
            "_view_count": null,
            "_view_module": "@jupyter-widgets/base",
            "_view_module_version": "1.2.0",
            "_view_name": "StyleView",
            "description_width": ""
          }
        },
        "8ab5933a8b6f4b9682fddaf86840adad": {
          "model_module": "@jupyter-widgets/controls",
          "model_name": "HBoxModel",
          "model_module_version": "1.5.0",
          "state": {
            "_dom_classes": [],
            "_model_module": "@jupyter-widgets/controls",
            "_model_module_version": "1.5.0",
            "_model_name": "HBoxModel",
            "_view_count": null,
            "_view_module": "@jupyter-widgets/controls",
            "_view_module_version": "1.5.0",
            "_view_name": "HBoxView",
            "box_style": "",
            "children": [
              "IPY_MODEL_81efa9967ee2472f9462b6d3d2894f76",
              "IPY_MODEL_ac6e8b1d752b41b28ffab268abc74984",
              "IPY_MODEL_37ebd12feaf6497e9326a32ceb419c3a"
            ],
            "layout": "IPY_MODEL_298256b82e1345299f80da8a8d6f21ca"
          }
        },
        "81efa9967ee2472f9462b6d3d2894f76": {
          "model_module": "@jupyter-widgets/controls",
          "model_name": "HTMLModel",
          "model_module_version": "1.5.0",
          "state": {
            "_dom_classes": [],
            "_model_module": "@jupyter-widgets/controls",
            "_model_module_version": "1.5.0",
            "_model_name": "HTMLModel",
            "_view_count": null,
            "_view_module": "@jupyter-widgets/controls",
            "_view_module_version": "1.5.0",
            "_view_name": "HTMLView",
            "description": "",
            "description_tooltip": null,
            "layout": "IPY_MODEL_f83cd4a571b94b6b8f79fceab133a342",
            "placeholder": "​",
            "style": "IPY_MODEL_e635e158230c42fbb00a10d3ce501c48",
            "value": "Downloading: 100%"
          }
        },
        "ac6e8b1d752b41b28ffab268abc74984": {
          "model_module": "@jupyter-widgets/controls",
          "model_name": "FloatProgressModel",
          "model_module_version": "1.5.0",
          "state": {
            "_dom_classes": [],
            "_model_module": "@jupyter-widgets/controls",
            "_model_module_version": "1.5.0",
            "_model_name": "FloatProgressModel",
            "_view_count": null,
            "_view_module": "@jupyter-widgets/controls",
            "_view_module_version": "1.5.0",
            "_view_name": "ProgressView",
            "bar_style": "success",
            "description": "",
            "description_tooltip": null,
            "layout": "IPY_MODEL_9c22e724cd394c59bc1f13fb60721551",
            "max": 1344997306,
            "min": 0,
            "orientation": "horizontal",
            "style": "IPY_MODEL_74483915e9344c0c96930611a7f6dc68",
            "value": 1344997306
          }
        },
        "37ebd12feaf6497e9326a32ceb419c3a": {
          "model_module": "@jupyter-widgets/controls",
          "model_name": "HTMLModel",
          "model_module_version": "1.5.0",
          "state": {
            "_dom_classes": [],
            "_model_module": "@jupyter-widgets/controls",
            "_model_module_version": "1.5.0",
            "_model_name": "HTMLModel",
            "_view_count": null,
            "_view_module": "@jupyter-widgets/controls",
            "_view_module_version": "1.5.0",
            "_view_name": "HTMLView",
            "description": "",
            "description_tooltip": null,
            "layout": "IPY_MODEL_929fb0a5725e4d679ef486ec23f07d76",
            "placeholder": "​",
            "style": "IPY_MODEL_a66f9933e49548cba6337deaa8c9ad48",
            "value": " 1.25G/1.25G [01:30&lt;00:00, 12.3MB/s]"
          }
        },
        "298256b82e1345299f80da8a8d6f21ca": {
          "model_module": "@jupyter-widgets/base",
          "model_name": "LayoutModel",
          "model_module_version": "1.2.0",
          "state": {
            "_model_module": "@jupyter-widgets/base",
            "_model_module_version": "1.2.0",
            "_model_name": "LayoutModel",
            "_view_count": null,
            "_view_module": "@jupyter-widgets/base",
            "_view_module_version": "1.2.0",
            "_view_name": "LayoutView",
            "align_content": null,
            "align_items": null,
            "align_self": null,
            "border": null,
            "bottom": null,
            "display": null,
            "flex": null,
            "flex_flow": null,
            "grid_area": null,
            "grid_auto_columns": null,
            "grid_auto_flow": null,
            "grid_auto_rows": null,
            "grid_column": null,
            "grid_gap": null,
            "grid_row": null,
            "grid_template_areas": null,
            "grid_template_columns": null,
            "grid_template_rows": null,
            "height": null,
            "justify_content": null,
            "justify_items": null,
            "left": null,
            "margin": null,
            "max_height": null,
            "max_width": null,
            "min_height": null,
            "min_width": null,
            "object_fit": null,
            "object_position": null,
            "order": null,
            "overflow": null,
            "overflow_x": null,
            "overflow_y": null,
            "padding": null,
            "right": null,
            "top": null,
            "visibility": null,
            "width": null
          }
        },
        "f83cd4a571b94b6b8f79fceab133a342": {
          "model_module": "@jupyter-widgets/base",
          "model_name": "LayoutModel",
          "model_module_version": "1.2.0",
          "state": {
            "_model_module": "@jupyter-widgets/base",
            "_model_module_version": "1.2.0",
            "_model_name": "LayoutModel",
            "_view_count": null,
            "_view_module": "@jupyter-widgets/base",
            "_view_module_version": "1.2.0",
            "_view_name": "LayoutView",
            "align_content": null,
            "align_items": null,
            "align_self": null,
            "border": null,
            "bottom": null,
            "display": null,
            "flex": null,
            "flex_flow": null,
            "grid_area": null,
            "grid_auto_columns": null,
            "grid_auto_flow": null,
            "grid_auto_rows": null,
            "grid_column": null,
            "grid_gap": null,
            "grid_row": null,
            "grid_template_areas": null,
            "grid_template_columns": null,
            "grid_template_rows": null,
            "height": null,
            "justify_content": null,
            "justify_items": null,
            "left": null,
            "margin": null,
            "max_height": null,
            "max_width": null,
            "min_height": null,
            "min_width": null,
            "object_fit": null,
            "object_position": null,
            "order": null,
            "overflow": null,
            "overflow_x": null,
            "overflow_y": null,
            "padding": null,
            "right": null,
            "top": null,
            "visibility": null,
            "width": null
          }
        },
        "e635e158230c42fbb00a10d3ce501c48": {
          "model_module": "@jupyter-widgets/controls",
          "model_name": "DescriptionStyleModel",
          "model_module_version": "1.5.0",
          "state": {
            "_model_module": "@jupyter-widgets/controls",
            "_model_module_version": "1.5.0",
            "_model_name": "DescriptionStyleModel",
            "_view_count": null,
            "_view_module": "@jupyter-widgets/base",
            "_view_module_version": "1.2.0",
            "_view_name": "StyleView",
            "description_width": ""
          }
        },
        "9c22e724cd394c59bc1f13fb60721551": {
          "model_module": "@jupyter-widgets/base",
          "model_name": "LayoutModel",
          "model_module_version": "1.2.0",
          "state": {
            "_model_module": "@jupyter-widgets/base",
            "_model_module_version": "1.2.0",
            "_model_name": "LayoutModel",
            "_view_count": null,
            "_view_module": "@jupyter-widgets/base",
            "_view_module_version": "1.2.0",
            "_view_name": "LayoutView",
            "align_content": null,
            "align_items": null,
            "align_self": null,
            "border": null,
            "bottom": null,
            "display": null,
            "flex": null,
            "flex_flow": null,
            "grid_area": null,
            "grid_auto_columns": null,
            "grid_auto_flow": null,
            "grid_auto_rows": null,
            "grid_column": null,
            "grid_gap": null,
            "grid_row": null,
            "grid_template_areas": null,
            "grid_template_columns": null,
            "grid_template_rows": null,
            "height": null,
            "justify_content": null,
            "justify_items": null,
            "left": null,
            "margin": null,
            "max_height": null,
            "max_width": null,
            "min_height": null,
            "min_width": null,
            "object_fit": null,
            "object_position": null,
            "order": null,
            "overflow": null,
            "overflow_x": null,
            "overflow_y": null,
            "padding": null,
            "right": null,
            "top": null,
            "visibility": null,
            "width": null
          }
        },
        "74483915e9344c0c96930611a7f6dc68": {
          "model_module": "@jupyter-widgets/controls",
          "model_name": "ProgressStyleModel",
          "model_module_version": "1.5.0",
          "state": {
            "_model_module": "@jupyter-widgets/controls",
            "_model_module_version": "1.5.0",
            "_model_name": "ProgressStyleModel",
            "_view_count": null,
            "_view_module": "@jupyter-widgets/base",
            "_view_module_version": "1.2.0",
            "_view_name": "StyleView",
            "bar_color": null,
            "description_width": ""
          }
        },
        "929fb0a5725e4d679ef486ec23f07d76": {
          "model_module": "@jupyter-widgets/base",
          "model_name": "LayoutModel",
          "model_module_version": "1.2.0",
          "state": {
            "_model_module": "@jupyter-widgets/base",
            "_model_module_version": "1.2.0",
            "_model_name": "LayoutModel",
            "_view_count": null,
            "_view_module": "@jupyter-widgets/base",
            "_view_module_version": "1.2.0",
            "_view_name": "LayoutView",
            "align_content": null,
            "align_items": null,
            "align_self": null,
            "border": null,
            "bottom": null,
            "display": null,
            "flex": null,
            "flex_flow": null,
            "grid_area": null,
            "grid_auto_columns": null,
            "grid_auto_flow": null,
            "grid_auto_rows": null,
            "grid_column": null,
            "grid_gap": null,
            "grid_row": null,
            "grid_template_areas": null,
            "grid_template_columns": null,
            "grid_template_rows": null,
            "height": null,
            "justify_content": null,
            "justify_items": null,
            "left": null,
            "margin": null,
            "max_height": null,
            "max_width": null,
            "min_height": null,
            "min_width": null,
            "object_fit": null,
            "object_position": null,
            "order": null,
            "overflow": null,
            "overflow_x": null,
            "overflow_y": null,
            "padding": null,
            "right": null,
            "top": null,
            "visibility": null,
            "width": null
          }
        },
        "a66f9933e49548cba6337deaa8c9ad48": {
          "model_module": "@jupyter-widgets/controls",
          "model_name": "DescriptionStyleModel",
          "model_module_version": "1.5.0",
          "state": {
            "_model_module": "@jupyter-widgets/controls",
            "_model_module_version": "1.5.0",
            "_model_name": "DescriptionStyleModel",
            "_view_count": null,
            "_view_module": "@jupyter-widgets/base",
            "_view_module_version": "1.2.0",
            "_view_name": "StyleView",
            "description_width": ""
          }
        }
      }
    }
  },
  "cells": [
    {
      "cell_type": "markdown",
      "metadata": {
        "id": "view-in-github",
        "colab_type": "text"
      },
      "source": [
        "<a href=\"https://colab.research.google.com/github/abhilash1910/Accelerated_Deep_Learning/blob/master/Torch_JIT_Tracing_BERT_Large.ipynb\" target=\"_parent\"><img src=\"https://colab.research.google.com/assets/colab-badge.svg\" alt=\"Open In Colab\"/></a>"
      ]
    },
    {
      "cell_type": "code",
      "source": [
        "!pip install transformers\n"
      ],
      "metadata": {
        "id": "ffJPlFyLa77U"
      },
      "execution_count": null,
      "outputs": []
    },
    {
      "cell_type": "code",
      "source": [
        "!nvidia-smi"
      ],
      "metadata": {
        "colab": {
          "base_uri": "https://localhost:8080/"
        },
        "id": "ypLGkfJMa_Iv",
        "outputId": "e5bd8539-066e-4465-acae-16f602ca873b"
      },
      "execution_count": 2,
      "outputs": [
        {
          "output_type": "stream",
          "name": "stdout",
          "text": [
            "Sat Jun 18 06:07:19 2022       \n",
            "+-----------------------------------------------------------------------------+\n",
            "| NVIDIA-SMI 460.32.03    Driver Version: 460.32.03    CUDA Version: 11.2     |\n",
            "|-------------------------------+----------------------+----------------------+\n",
            "| GPU  Name        Persistence-M| Bus-Id        Disp.A | Volatile Uncorr. ECC |\n",
            "| Fan  Temp  Perf  Pwr:Usage/Cap|         Memory-Usage | GPU-Util  Compute M. |\n",
            "|                               |                      |               MIG M. |\n",
            "|===============================+======================+======================|\n",
            "|   0  Tesla T4            Off  | 00000000:00:04.0 Off |                    0 |\n",
            "| N/A   40C    P8     9W /  70W |      0MiB / 15109MiB |      0%      Default |\n",
            "|                               |                      |                  N/A |\n",
            "+-------------------------------+----------------------+----------------------+\n",
            "                                                                               \n",
            "+-----------------------------------------------------------------------------+\n",
            "| Processes:                                                                  |\n",
            "|  GPU   GI   CI        PID   Type   Process name                  GPU Memory |\n",
            "|        ID   ID                                                   Usage      |\n",
            "|=============================================================================|\n",
            "|  No running processes found                                                 |\n",
            "+-----------------------------------------------------------------------------+\n"
          ]
        }
      ]
    },
    {
      "cell_type": "code",
      "source": [
        "!nvcc --version"
      ],
      "metadata": {
        "colab": {
          "base_uri": "https://localhost:8080/"
        },
        "id": "NjFv6-uXbGd5",
        "outputId": "83eb10dd-3f6a-43f6-ed2e-cb587f2ac4b6"
      },
      "execution_count": 5,
      "outputs": [
        {
          "output_type": "stream",
          "name": "stdout",
          "text": [
            "nvcc: NVIDIA (R) Cuda compiler driver\n",
            "Copyright (c) 2005-2020 NVIDIA Corporation\n",
            "Built on Mon_Oct_12_20:09:46_PDT_2020\n",
            "Cuda compilation tools, release 11.1, V11.1.105\n",
            "Build cuda_11.1.TC455_06.29190527_0\n"
          ]
        }
      ]
    },
    {
      "cell_type": "markdown",
      "source": [
        "BERT large loading from HF standard template"
      ],
      "metadata": {
        "id": "IFjDkQV2pHUB"
      }
    },
    {
      "cell_type": "code",
      "execution_count": 26,
      "metadata": {
        "colab": {
          "base_uri": "https://localhost:8080/",
          "height": 217,
          "referenced_widgets": [
            "17c32f93315948f3a7171f594e589034",
            "5cded3cad0b94813953cdff0425b6cdd",
            "e95fdcce3a564cc4981fe90dd356743d",
            "bf3141ee5f2d468392bbbd36f27816f4",
            "17b543e9f6b046d9ab6d7f93e2e3d3d5",
            "75b3bd09dbb3429db66a65b00ee7f574",
            "2baabc43910848adb572f15f1f6ace3c",
            "9b41e02fb4e04fd4b8ac9db621bc5e0f",
            "03c70e03f6ce42fbaec1b3911f4900fe",
            "d3e61a96b5354a488b8238b0dbf09eb4",
            "b1b16f83f97d41a889ccf65166a52b70",
            "a3ededb40b08487485b45d8afde49bd1",
            "9301b8e37b5d40cab99e086e108eb5b2",
            "1ebf682f39804328ad0208b5b93c9190",
            "ce8f5dc1e8e7481d8d86bc50cfabe6cd",
            "c95b388199d446aca3e5c3527fb57edf",
            "ccd873d361004221ac552fd1b2528360",
            "53e1a072d3f84ca6896b276d22b4547c",
            "d45c3987c72e44a8aa6b6ee446d94cee",
            "c37d4a88fe9b4bf188a5c3ec9f3f1224",
            "e1c7fd2d238440fa82cc91bb25364b64",
            "f10a4894bb104ec3a15167d7843a21d8",
            "888f8eeaae944543a64d7256d92ad9bc",
            "7e7abcdfe4434209a6e9db52bdd2c890",
            "26e1fc52890848b2a98d69e458ba50a2",
            "37670407430c4e12bcf510cdd0228f7e",
            "e7108e5593324734a8e1208b7739e76d",
            "b2eb49550d534708bf196f4aab330bf5",
            "4dcaf848ac42443f941604545aa5c20c",
            "a5e1ea940f604b03a266f20bdb0dbe30",
            "670589d6bd2c40c19606856134863e9f",
            "9f88c5b176ee4556871a593ee04538e5",
            "09d023f8adab40a982d41bf57886f730",
            "8ab5933a8b6f4b9682fddaf86840adad",
            "81efa9967ee2472f9462b6d3d2894f76",
            "ac6e8b1d752b41b28ffab268abc74984",
            "37ebd12feaf6497e9326a32ceb419c3a",
            "298256b82e1345299f80da8a8d6f21ca",
            "f83cd4a571b94b6b8f79fceab133a342",
            "e635e158230c42fbb00a10d3ce501c48",
            "9c22e724cd394c59bc1f13fb60721551",
            "74483915e9344c0c96930611a7f6dc68",
            "929fb0a5725e4d679ef486ec23f07d76",
            "a66f9933e49548cba6337deaa8c9ad48"
          ]
        },
        "id": "gEPXJmgIKjb3",
        "outputId": "8d675bda-05cb-4416-8bd1-130464b2f1b3"
      },
      "outputs": [
        {
          "output_type": "display_data",
          "data": {
            "text/plain": [
              "Downloading:   0%|          | 0.00/226k [00:00<?, ?B/s]"
            ],
            "application/vnd.jupyter.widget-view+json": {
              "version_major": 2,
              "version_minor": 0,
              "model_id": "17c32f93315948f3a7171f594e589034"
            }
          },
          "metadata": {}
        },
        {
          "output_type": "display_data",
          "data": {
            "text/plain": [
              "Downloading:   0%|          | 0.00/28.0 [00:00<?, ?B/s]"
            ],
            "application/vnd.jupyter.widget-view+json": {
              "version_major": 2,
              "version_minor": 0,
              "model_id": "a3ededb40b08487485b45d8afde49bd1"
            }
          },
          "metadata": {}
        },
        {
          "output_type": "display_data",
          "data": {
            "text/plain": [
              "Downloading:   0%|          | 0.00/571 [00:00<?, ?B/s]"
            ],
            "application/vnd.jupyter.widget-view+json": {
              "version_major": 2,
              "version_minor": 0,
              "model_id": "888f8eeaae944543a64d7256d92ad9bc"
            }
          },
          "metadata": {}
        },
        {
          "output_type": "display_data",
          "data": {
            "text/plain": [
              "Downloading:   0%|          | 0.00/1.25G [00:00<?, ?B/s]"
            ],
            "application/vnd.jupyter.widget-view+json": {
              "version_major": 2,
              "version_minor": 0,
              "model_id": "8ab5933a8b6f4b9682fddaf86840adad"
            }
          },
          "metadata": {}
        },
        {
          "output_type": "stream",
          "name": "stderr",
          "text": [
            "Some weights of the model checkpoint at bert-large-uncased were not used when initializing BertModel: ['cls.predictions.transform.LayerNorm.weight', 'cls.predictions.decoder.weight', 'cls.seq_relationship.bias', 'cls.predictions.transform.dense.bias', 'cls.predictions.transform.dense.weight', 'cls.seq_relationship.weight', 'cls.predictions.bias', 'cls.predictions.transform.LayerNorm.bias']\n",
            "- This IS expected if you are initializing BertModel from the checkpoint of a model trained on another task or with another architecture (e.g. initializing a BertForSequenceClassification model from a BertForPreTraining model).\n",
            "- This IS NOT expected if you are initializing BertModel from the checkpoint of a model that you expect to be exactly identical (initializing a BertForSequenceClassification model from a BertForSequenceClassification model).\n"
          ]
        }
      ],
      "source": [
        "#Standard BERT dummy from HF\n",
        "from transformers import BertModel, BertTokenizer, BertConfig\n",
        "import torch\n",
        "\n",
        "enc = BertTokenizer.from_pretrained(\"bert-large-uncased\")\n",
        "\n",
        "# Tokenizing input text\n",
        "text = \"[CLS] Who was Jim Henson ? [SEP] Jim Henson was a puppeteer [SEP]\"\n",
        "tokenized_text = enc.tokenize(text)\n",
        "\n",
        "# Masking one of the input tokens\n",
        "masked_index = 8\n",
        "tokenized_text[masked_index] = \"[MASK]\"\n",
        "indexed_tokens = enc.convert_tokens_to_ids(tokenized_text)\n",
        "segments_ids = [0, 0, 0, 0, 0, 0, 0, 1, 1, 1, 1, 1, 1, 1]\n",
        "\n",
        "# Creating a dummy input\n",
        "tokens_tensor = torch.tensor([indexed_tokens])\n",
        "segments_tensors = torch.tensor([segments_ids])\n",
        "dummy_input = [tokens_tensor, segments_tensors]\n",
        "\n",
        "# Initializing the model with the torchscript flag\n",
        "# Flag set to True even though it is not necessary as this model does not have an LM Head.\n",
        "config = BertConfig(\n",
        "    vocab_size_or_config_json_file=32000,\n",
        "    hidden_size=768,\n",
        "    num_hidden_layers=12,\n",
        "    num_attention_heads=12,\n",
        "    intermediate_size=3072,\n",
        "    torchscript=True,\n",
        ")\n",
        "\n",
        "# Instantiating the model\n",
        "model = BertModel(config)\n",
        "\n",
        "# The model needs to be in evaluation mode\n",
        "model.eval()\n",
        "\n",
        "# If you are instantiating the model with *from_pretrained* you can also easily set the TorchScript flag\n",
        "model = BertModel.from_pretrained(\"bert-large-uncased\", torchscript=True)\n",
        "\n"
      ]
    },
    {
      "cell_type": "markdown",
      "source": [
        "Convert model to Torch JIT "
      ],
      "metadata": {
        "id": "_O3fdsRApLn9"
      }
    },
    {
      "cell_type": "code",
      "source": [
        "# Creating the trace\n",
        "model.to(\"cpu\")\n",
        "traced_model = torch.jit.trace(model, [tokens_tensor, segments_tensors])\n",
        "torch.jit.save(traced_model, \"traced_bert.pt\")"
      ],
      "metadata": {
        "id": "R6VoKcXWcT4-"
      },
      "execution_count": 27,
      "outputs": []
    },
    {
      "cell_type": "code",
      "source": [
        "traced_model"
      ],
      "metadata": {
        "id": "nN3BY-dXc0cJ"
      },
      "execution_count": null,
      "outputs": []
    },
    {
      "cell_type": "code",
      "source": [
        "!pip install timer"
      ],
      "metadata": {
        "colab": {
          "base_uri": "https://localhost:8080/"
        },
        "id": "OZYEF9Y4mQ4S",
        "outputId": "ad30f8b0-1309-4940-e475-93822d48976a"
      },
      "execution_count": 30,
      "outputs": [
        {
          "output_type": "stream",
          "name": "stdout",
          "text": [
            "Looking in indexes: https://pypi.org/simple, https://us-python.pkg.dev/colab-wheels/public/simple/\n",
            "Collecting timer\n",
            "  Downloading timer-0.2.2-py3-none-any.whl (7.8 kB)\n",
            "Installing collected packages: timer\n",
            "Successfully installed timer-0.2.2\n"
          ]
        }
      ]
    },
    {
      "cell_type": "markdown",
      "source": [
        "Export weights to CUDA device for both Native BERT large and Jit BERT large"
      ],
      "metadata": {
        "id": "nkxqsYWppPYK"
      }
    },
    {
      "cell_type": "code",
      "source": [
        "\n",
        "# setup=\"native_gpu = model.cuda()\"\n",
        "# tokens_tensor_gpu = tokens_tensor.cuda()\n",
        "# segments_tensors_gpu = segments_tensors.cuda()\n",
        "# stmt=\"native_gpu(tokens_tensor_gpu,segments_tensors_gpu)\"\n",
        "# timeit.repeat( stmt, setup, number=1, repeat=10, globals=globals())\n",
        "from timer import timer\n",
        "native_gpu = model.cuda()\n",
        "tokens_tensor_gpu = tokens_tensor.cuda()\n",
        "segments_tensors_gpu = segments_tensors.cuda()\n",
        "timer_list=[]\n",
        "with timer() as t:\n",
        "  for _ in range(100):\n",
        "    native_gpu(tokens_tensor_gpu,segments_tensors_gpu)\n",
        "    timer_list.append(t.elapse)\n",
        "    print(f\"time taken GPU:{t.elapse}\")\n",
        "print(f\"Mean Time on GPU {np.mean(timer_list)}\")\n",
        "native_gpu_mean,native_gpu_std=np.mean(timer_list),np.std(timer_list)"
      ],
      "metadata": {
        "colab": {
          "base_uri": "https://localhost:8080/"
        },
        "id": "qRaJMon7lcO7",
        "outputId": "0366150c-8bdf-47a3-e549-859b97b7f60c"
      },
      "execution_count": 43,
      "outputs": [
        {
          "output_type": "stream",
          "name": "stdout",
          "text": [
            "time taken GPU:0.023450054000022647\n",
            "time taken GPU:0.04704280000032668\n",
            "time taken GPU:0.06928185700007816\n",
            "time taken GPU:0.0923203239999566\n",
            "time taken GPU:0.1140824590002012\n",
            "time taken GPU:0.1347084190001624\n",
            "time taken GPU:0.15618186900019282\n",
            "time taken GPU:0.17665664000014658\n",
            "time taken GPU:0.19668734500010032\n",
            "time taken GPU:0.217795851000119\n",
            "time taken GPU:0.2420310310003515\n",
            "time taken GPU:0.2633946930000093\n",
            "time taken GPU:0.28492573400035326\n",
            "time taken GPU:0.3061101140001483\n",
            "time taken GPU:0.32774900100002924\n",
            "time taken GPU:0.3510819390003235\n",
            "time taken GPU:0.3723013900003025\n",
            "time taken GPU:0.3940775040000517\n",
            "time taken GPU:0.4161324050000985\n",
            "time taken GPU:0.43655806600008873\n",
            "time taken GPU:0.4608281620003254\n",
            "time taken GPU:0.4825603920003232\n",
            "time taken GPU:0.503770361000079\n",
            "time taken GPU:0.5241934350001429\n",
            "time taken GPU:0.5457109960002526\n",
            "time taken GPU:0.5660439319999568\n",
            "time taken GPU:0.5874045570003545\n",
            "time taken GPU:0.6077456860002712\n",
            "time taken GPU:0.628186598999946\n",
            "time taken GPU:0.65211108099993\n",
            "time taken GPU:0.6761413190001804\n",
            "time taken GPU:0.7011619130003055\n",
            "time taken GPU:0.7242457110000942\n",
            "time taken GPU:0.7460158710000542\n",
            "time taken GPU:0.7680960030002097\n",
            "time taken GPU:0.7897900840002876\n",
            "time taken GPU:0.8104567170003065\n",
            "time taken GPU:0.8319691970000349\n",
            "time taken GPU:0.852259801999935\n",
            "time taken GPU:0.8730717840003308\n",
            "time taken GPU:0.8979290560000663\n",
            "time taken GPU:0.9185822320000625\n",
            "time taken GPU:0.9407927810002548\n",
            "time taken GPU:0.9619530120003219\n",
            "time taken GPU:0.9829637709999588\n",
            "time taken GPU:1.00629994000019\n",
            "time taken GPU:1.0286102620002566\n",
            "time taken GPU:1.0502469430002748\n",
            "time taken GPU:1.0740056449999429\n",
            "time taken GPU:1.095653762999973\n",
            "time taken GPU:1.121027762000267\n",
            "time taken GPU:1.1421620380001514\n",
            "time taken GPU:1.165670214000329\n",
            "time taken GPU:1.186510785000337\n",
            "time taken GPU:1.2072964369999681\n",
            "time taken GPU:1.228425955000148\n",
            "time taken GPU:1.250261652000063\n",
            "time taken GPU:1.2729382530001203\n",
            "time taken GPU:1.295423516000028\n",
            "time taken GPU:1.3176875640001526\n",
            "time taken GPU:1.343275676000303\n",
            "time taken GPU:1.3661120450001363\n",
            "time taken GPU:1.389405182000246\n",
            "time taken GPU:1.4128920309999558\n",
            "time taken GPU:1.4368748090000736\n",
            "time taken GPU:1.457672908999939\n",
            "time taken GPU:1.4795463590003237\n",
            "time taken GPU:1.5020953880002708\n",
            "time taken GPU:1.5238564510000288\n",
            "time taken GPU:1.5505216770002335\n",
            "time taken GPU:1.572061197000039\n",
            "time taken GPU:1.5933455580002374\n",
            "time taken GPU:1.6140756080003484\n",
            "time taken GPU:1.634248709000076\n",
            "time taken GPU:1.6547687780002889\n",
            "time taken GPU:1.6763754379999227\n",
            "time taken GPU:1.697683379999944\n",
            "time taken GPU:1.7271344210003008\n",
            "time taken GPU:1.748510505000013\n",
            "time taken GPU:1.7738388430002487\n",
            "time taken GPU:1.7955631630002244\n",
            "time taken GPU:1.828148259000045\n",
            "time taken GPU:1.8545726219999779\n",
            "time taken GPU:1.8751099370001612\n",
            "time taken GPU:1.8958337590001975\n",
            "time taken GPU:1.9175416900002347\n",
            "time taken GPU:1.9385876820001613\n",
            "time taken GPU:1.9593756900003427\n",
            "time taken GPU:1.9827492419999544\n",
            "time taken GPU:2.0038584420003644\n",
            "time taken GPU:2.0248577950001163\n",
            "time taken GPU:2.045879609000167\n",
            "time taken GPU:2.069856482999967\n",
            "time taken GPU:2.0920577470001263\n",
            "time taken GPU:2.113810163999915\n",
            "time taken GPU:2.1352688340002715\n",
            "time taken GPU:2.156555500000195\n",
            "time taken GPU:2.1772669199999655\n",
            "time taken GPU:2.2019279720002487\n",
            "time taken GPU:2.224316593000367\n",
            "Mean Time on GPU 1.1154597627001568\n"
          ]
        }
      ]
    },
    {
      "cell_type": "code",
      "source": [
        "traced_model_gpu = torch.jit.trace(traced_model.cuda(), [tokens_tensor.cuda(), segments_tensors.cuda()])\n",
        "with timer() as t:\n",
        "  for _ in range(100):\n",
        "    traced_model_gpu(tokens_tensor_gpu,segments_tensors_gpu)\n",
        "    timer_list.append(t.elapse)\n",
        "    print(f\"time taken traced model GPU:{t.elapse}\")\n",
        "print(f\"Mean Time Traced Model on GPU {np.mean(timer_list)}\")\n",
        "traced_model_gpu_mean,traced_model_gpu_std=np.mean(timer_list),np.std(timer_list)"
      ],
      "metadata": {
        "colab": {
          "base_uri": "https://localhost:8080/"
        },
        "id": "7u_g9MZnn_R4",
        "outputId": "22b9c9b7-840b-46e9-f396-fa26321f401b"
      },
      "execution_count": 44,
      "outputs": [
        {
          "output_type": "stream",
          "name": "stderr",
          "text": [
            "/usr/local/lib/python3.7/dist-packages/torch/jit/_trace.py:736: UserWarning: The input to trace is already a ScriptModule, tracing it is a no-op. Returning the object as is.\n",
            "  \"The input to trace is already a ScriptModule, tracing it is a no-op. Returning the object as is.\"\n"
          ]
        },
        {
          "output_type": "stream",
          "name": "stdout",
          "text": [
            "time taken traced model GPU:0.015598941000007471\n",
            "time taken traced model GPU:0.03234528599978148\n",
            "time taken traced model GPU:0.049356176999936\n",
            "time taken traced model GPU:0.0689895269997578\n",
            "time taken traced model GPU:0.08206378800014136\n",
            "time taken traced model GPU:0.09437793200004307\n",
            "time taken traced model GPU:0.10664279499997065\n",
            "time taken traced model GPU:0.11957215999973414\n",
            "time taken traced model GPU:0.13262462100010453\n",
            "time taken traced model GPU:0.1462258430001384\n",
            "time taken traced model GPU:0.15910816399991745\n",
            "time taken traced model GPU:0.17157254999983707\n",
            "time taken traced model GPU:0.1840195589998075\n",
            "time taken traced model GPU:0.19643460999986928\n",
            "time taken traced model GPU:0.21171923300016715\n",
            "time taken traced model GPU:0.22663808800007246\n",
            "time taken traced model GPU:0.23871973399991475\n",
            "time taken traced model GPU:0.2512184019997221\n",
            "time taken traced model GPU:0.2650144320000436\n",
            "time taken traced model GPU:0.2787801629997375\n",
            "time taken traced model GPU:0.29274012699988816\n",
            "time taken traced model GPU:0.30698593999977675\n",
            "time taken traced model GPU:0.3198607770000308\n",
            "time taken traced model GPU:0.33325420099981784\n",
            "time taken traced model GPU:0.346701074000066\n",
            "time taken traced model GPU:0.3604038309999851\n",
            "time taken traced model GPU:0.3757934310001474\n",
            "time taken traced model GPU:0.3876799340000616\n",
            "time taken traced model GPU:0.3999460780000845\n",
            "time taken traced model GPU:0.41177017200016053\n",
            "time taken traced model GPU:0.4239079290000518\n",
            "time taken traced model GPU:0.4391781119998086\n",
            "time taken traced model GPU:0.45162165800002185\n",
            "time taken traced model GPU:0.46406142199975875\n",
            "time taken traced model GPU:0.47638768700016954\n",
            "time taken traced model GPU:0.490304758000093\n",
            "time taken traced model GPU:0.5035495729998729\n",
            "time taken traced model GPU:0.5156694890001745\n",
            "time taken traced model GPU:0.5287257639997733\n",
            "time taken traced model GPU:0.5414645880000535\n",
            "time taken traced model GPU:0.5539038110000547\n",
            "time taken traced model GPU:0.5667270139997527\n",
            "time taken traced model GPU:0.5795371770000202\n",
            "time taken traced model GPU:0.5918551479999223\n",
            "time taken traced model GPU:0.6040737439998338\n",
            "time taken traced model GPU:0.6174692959998538\n",
            "time taken traced model GPU:0.6353421959997831\n",
            "time taken traced model GPU:0.6522892009998031\n",
            "time taken traced model GPU:0.668994938999731\n",
            "time taken traced model GPU:0.6809683480000785\n",
            "time taken traced model GPU:0.6931874140000218\n",
            "time taken traced model GPU:0.7063519049997922\n",
            "time taken traced model GPU:0.7182991069998934\n",
            "time taken traced model GPU:0.7303164820000347\n",
            "time taken traced model GPU:0.7427975420000621\n",
            "time taken traced model GPU:0.7544730240001627\n",
            "time taken traced model GPU:0.7709627369999907\n",
            "time taken traced model GPU:0.7831330489998436\n",
            "time taken traced model GPU:0.7966214180000861\n",
            "time taken traced model GPU:0.8090530680001393\n",
            "time taken traced model GPU:0.8216006869997727\n",
            "time taken traced model GPU:0.8336204600000201\n",
            "time taken traced model GPU:0.8456674210001438\n",
            "time taken traced model GPU:0.8611223799998697\n",
            "time taken traced model GPU:0.8752726439997787\n",
            "time taken traced model GPU:0.8886354010001014\n",
            "time taken traced model GPU:0.9012188470001092\n",
            "time taken traced model GPU:0.9136560679999093\n",
            "time taken traced model GPU:0.9258382439998059\n",
            "time taken traced model GPU:0.938141658999939\n",
            "time taken traced model GPU:0.9508245759998317\n",
            "time taken traced model GPU:0.9640214579999338\n",
            "time taken traced model GPU:0.9770286980001401\n",
            "time taken traced model GPU:0.9893514179998419\n",
            "time taken traced model GPU:1.002330149000045\n",
            "time taken traced model GPU:1.0147033299999748\n",
            "time taken traced model GPU:1.0299206740000955\n",
            "time taken traced model GPU:1.0435583369999222\n",
            "time taken traced model GPU:1.0562550089998695\n",
            "time taken traced model GPU:1.0735406630001307\n",
            "time taken traced model GPU:1.0917025059998196\n",
            "time taken traced model GPU:1.1044838510001682\n",
            "time taken traced model GPU:1.116425063999941\n",
            "time taken traced model GPU:1.128132347999781\n",
            "time taken traced model GPU:1.1402053599999817\n",
            "time taken traced model GPU:1.1530366500001037\n",
            "time taken traced model GPU:1.169338142000015\n",
            "time taken traced model GPU:1.1815174389998901\n",
            "time taken traced model GPU:1.1940271600001324\n",
            "time taken traced model GPU:1.2065255899997283\n",
            "time taken traced model GPU:1.2198207540000112\n",
            "time taken traced model GPU:1.2328693409999687\n",
            "time taken traced model GPU:1.244703974999993\n",
            "time taken traced model GPU:1.2570654309997735\n",
            "time taken traced model GPU:1.2693428940001468\n",
            "time taken traced model GPU:1.284874119000051\n",
            "time taken traced model GPU:1.2995812809999734\n",
            "time taken traced model GPU:1.3122220899999775\n",
            "time taken traced model GPU:1.3255543159998524\n",
            "time taken traced model GPU:1.3376452050001717\n",
            "Mean Time Traced Model on GPU 0.8988925651850537\n"
          ]
        }
      ]
    },
    {
      "cell_type": "markdown",
      "source": [
        "Estimate mean and std for 100 runs .Differences pronounced in more runs"
      ],
      "metadata": {
        "id": "hTjAn6OWpUrZ"
      }
    },
    {
      "cell_type": "code",
      "source": [
        "import matplotlib.pyplot as plt\n",
        "import numpy as np\n",
        "def plot(means, stds, labels, fig_name):\n",
        "    fig, ax = plt.subplots()\n",
        "    ax.bar(np.arange(len(means)), means, yerr=stds,\n",
        "           align='center', alpha=0.5, ecolor='red', capsize=10, width=0.6)\n",
        "    ax.set_ylabel('Torch JIT trace (Second)')\n",
        "    ax.set_xticks(np.arange(len(means)))\n",
        "    ax.set_xticklabels(labels)\n",
        "    ax.yaxis.grid(True)\n",
        "    plt.tight_layout()\n",
        "    plt.show()\n",
        "    plt.savefig(fig_name)\n",
        "    plt.close(fig)\n",
        "\n",
        "\n",
        "plot([traced_model_gpu_mean,native_gpu_mean],\n",
        "     [traced_model_gpu_std, native_gpu_std],\n",
        "     ['Trace Jit BERT GPU', 'Native BERT GPU'],\n",
        "     'trace_vs_bert_gpu.png')"
      ],
      "metadata": {
        "colab": {
          "base_uri": "https://localhost:8080/",
          "height": 314
        },
        "id": "Yd8Ps4P-owWX",
        "outputId": "4859b793-b0b8-4776-f12f-15d7c5e3f817"
      },
      "execution_count": 45,
      "outputs": [
        {
          "output_type": "display_data",
          "data": {
            "text/plain": [
              "<Figure size 432x288 with 1 Axes>"
            ],
            "image/png": "[encoded data removed]"
          },
          "metadata": {
            "needs_background": "light"
          }
        },
        {
          "output_type": "display_data",
          "data": {
            "text/plain": [
              "<Figure size 432x288 with 0 Axes>"
            ]
          },
          "metadata": {}
        }
      ]
    },
    {
      "cell_type": "code",
      "source": [
        "native_model_cpu=native_gpu.to(\"cpu\")\n",
        "traced_model_cpu=traced_model_gpu.to(\"cpu\")\n",
        "timer_list=[]\n",
        "with timer() as t:\n",
        "  for _ in range(100):\n",
        "    traced_model_cpu(tokens_tensor,segments_tensors)\n",
        "    timer_list.append(t.elapse)\n",
        "    #print(f\"time taken traced model CPU:{t.elapse}\")\n",
        "print(f\"Mean Time Traced Model on CPU {np.mean(timer_list)}\")\n",
        "traced_model_cpu_mean,traced_model_cpu_std=np.mean(timer_list),np.std(timer_list)\n",
        "timer_list=[]\n",
        "with timer() as t:\n",
        "  for _ in range(100):\n",
        "    native_model_cpu(tokens_tensor,segments_tensors)\n",
        "    timer_list.append(t.elapse)\n",
        "    #print(f\"time taken traced model CPU:{t.elapse}\")\n",
        "print(f\"Mean Time Native Model on CPU {np.mean(timer_list)}\")\n",
        "native_cpu_mean,native_cpu_std=np.mean(timer_list),np.std(timer_list)"
      ],
      "metadata": {
        "colab": {
          "base_uri": "https://localhost:8080/"
        },
        "id": "GmoX_rh-pdUR",
        "outputId": "ef81921c-f67f-4c0c-dffa-697aca51036d"
      },
      "execution_count": 49,
      "outputs": [
        {
          "output_type": "stream",
          "name": "stdout",
          "text": [
            "Mean Time Traced Model on CPU 17.975117748420452\n",
            "Mean Time Native Model on CPU 18.122856914840305\n"
          ]
        }
      ]
    },
    {
      "cell_type": "code",
      "source": [
        "\n",
        "plot([traced_model_cpu_mean,native_cpu_mean],\n",
        "     [traced_model_cpu_std, native_cpu_std],\n",
        "     ['Trace Jit BERT CPU', 'Native BERT CPU'],\n",
        "     'trace_vs_bert_cpu.png')"
      ],
      "metadata": {
        "colab": {
          "base_uri": "https://localhost:8080/",
          "height": 314
        },
        "id": "t7VL-7ihqbpK",
        "outputId": "a9625d97-0de4-4756-c557-6381db18e972"
      },
      "execution_count": 50,
      "outputs": [
        {
          "output_type": "display_data",
          "data": {
            "text/plain": [
              "<Figure size 432x288 with 1 Axes>"
            ],
            "image/png": "[encoded data removed]"
          },
          "metadata": {
            "needs_background": "light"
          }
        },
        {
          "output_type": "display_data",
          "data": {
            "text/plain": [
              "<Figure size 432x288 with 0 Axes>"
            ]
          },
          "metadata": {}
        }
      ]
    },
    {
      "cell_type": "code",
      "source": [
        "# import numpy as np\n",
        "# import timeit\n",
        "# setup=\"\"\"loaded_model = torch.jit.load(\"traced_bert.pt\")\"\"\"\n",
        "# stmt=\"loaded_model.eval()\"\n",
        "# run_time_traced=timeit.repeat( stmt, setup, number=1, repeat=10, globals=globals())\n",
        "# trace_mean, trace_std = np.mean(run_time_traced), np.std(run_time_traced)\n",
        "# run_time_traced\n",
        "# torch.save(model,'orig_model.pt')\n",
        "# setup=\"\"\"loaded_model_o = torch.load(\"orig_model.pt\")\"\"\"\n",
        "# stmt=\"loaded_model_o.eval()\"\n",
        "# run_time_orig=timeit.repeat( stmt, setup, number=1, repeat=10, globals=globals())\n",
        "# rn_mean, rn_std = np.mean(run_time_orig), np.std(run_time_orig)\n",
        "# run_time_orig\n",
        "# overhead_tracing= abs(trace_mean/rn_mean)-1\n",
        "# print(f\"{overhead_tracing}% time wasted in  io loading with jit \")"
      ],
      "metadata": {
        "id": "poJ0jQ7Ac-NC"
      },
      "execution_count": null,
      "outputs": []
    }
  ]
}