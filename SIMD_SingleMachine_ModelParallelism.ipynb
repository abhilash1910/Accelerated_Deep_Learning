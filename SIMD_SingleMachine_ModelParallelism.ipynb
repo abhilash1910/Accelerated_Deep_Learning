{
  "nbformat": 4,
  "nbformat_minor": 0,
  "metadata": {
    "colab": {
      "name": "SIMD_SingleMachine_ModelParallelism.ipynb",
      "provenance": [],
      "collapsed_sections": [],
      "authorship_tag": "ABX9TyMtPOkzfviL8ZwIY2mV7rP/",
      "include_colab_link": true
    },
    "kernelspec": {
      "name": "python3",
      "display_name": "Python 3"
    },
    "language_info": {
      "name": "python"
    },
    "accelerator": "GPU",
    "gpuClass": "standard"
  },
  "cells": [
    {
      "cell_type": "markdown",
      "metadata": {
        "id": "view-in-github",
        "colab_type": "text"
      },
      "source": [
        "<a href=\"https://colab.research.google.com/github/abhilash1910/Accelerated_Deep_Learning/blob/master/SIMD_SingleMachine_ModelParallelism.ipynb\" target=\"_parent\"><img src=\"https://colab.research.google.com/assets/colab-badge.svg\" alt=\"Open In Colab\"/></a>"
      ]
    },
    {
      "cell_type": "code",
      "execution_count": 1,
      "metadata": {
        "colab": {
          "base_uri": "https://localhost:8080/"
        },
        "id": "NpW3hTbHLEkg",
        "outputId": "dcbc978a-9efe-4889-c25e-2015eddd041b"
      },
      "outputs": [
        {
          "output_type": "stream",
          "name": "stdout",
          "text": [
            "['PyTorch built with:', '  - GCC 7.3', '  - C++ Version: 201402', '  - Intel(R) Math Kernel Library Version 2020.0.0 Product Build 20191122 for Intel(R) 64 architecture applications', '  - Intel(R) MKL-DNN v2.5.2 (Git Hash a9302535553c73243c632ad3c4c80beec3d19a1e)', '  - OpenMP 201511 (a.k.a. OpenMP 4.5)', '  - LAPACK is enabled (usually provided by MKL)', '  - NNPACK is enabled', '  - CPU capability usage: AVX2', '  - CUDA Runtime 11.3', '  - NVCC architecture flags: -gencode;arch=compute_37,code=sm_37;-gencode;arch=compute_50,code=sm_50;-gencode;arch=compute_60,code=sm_60;-gencode;arch=compute_70,code=sm_70;-gencode;arch=compute_75,code=sm_75;-gencode;arch=compute_80,code=sm_80;-gencode;arch=compute_86,code=sm_86', '  - CuDNN 8.2', '  - Magma 2.5.2', '  - Build settings: BLAS_INFO=mkl, BUILD_TYPE=Release, CUDA_VERSION=11.3, CUDNN_VERSION=8.2.0, CXX_COMPILER=/opt/rh/devtoolset-7/root/usr/bin/c++, CXX_FLAGS= -Wno-deprecated -fvisibility-inlines-hidden -DUSE_PTHREADPOOL -fopenmp -DNDEBUG -DUSE_KINETO -DUSE_FBGEMM -DUSE_QNNPACK -DUSE_PYTORCH_QNNPACK -DUSE_XNNPACK -DSYMBOLICATE_MOBILE_DEBUG_HANDLE -DEDGE_PROFILER_USE_KINETO -O2 -fPIC -Wno-narrowing -Wall -Wextra -Werror=return-type -Wno-missing-field-initializers -Wno-type-limits -Wno-array-bounds -Wno-unknown-pragmas -Wno-sign-compare -Wno-unused-parameter -Wno-unused-function -Wno-unused-result -Wno-unused-local-typedefs -Wno-strict-overflow -Wno-strict-aliasing -Wno-error=deprecated-declarations -Wno-stringop-overflow -Wno-psabi -Wno-error=pedantic -Wno-error=redundant-decls -Wno-error=old-style-cast -fdiagnostics-color=always -faligned-new -Wno-unused-but-set-variable -Wno-maybe-uninitialized -fno-math-errno -fno-trapping-math -Werror=format -Wno-stringop-overflow, LAPACK_INFO=mkl, PERF_WITH_AVX=1, PERF_WITH_AVX2=1, PERF_WITH_AVX512=1, TORCH_VERSION=1.11.0, USE_CUDA=ON, USE_CUDNN=ON, USE_EXCEPTION_PTR=1, USE_GFLAGS=OFF, USE_GLOG=OFF, USE_MKL=ON, USE_MKLDNN=OFF, USE_MPI=OFF, USE_NCCL=ON, USE_NNPACK=ON, USE_OPENMP=ON, USE_ROCM=OFF, ', '']\n"
          ]
        }
      ],
      "source": [
        "import torch\n",
        "print(torch.__config__.show().split(\"\\n\"), sep=\"\\n\")"
      ]
    },
    {
      "cell_type": "code",
      "source": [
        "torch.cuda.is_available()"
      ],
      "metadata": {
        "id": "R7652g0bnvux",
        "colab": {
          "base_uri": "https://localhost:8080/"
        },
        "outputId": "e317c990-3ab1-4f91-d3c1-91e42b6170bb"
      },
      "execution_count": 2,
      "outputs": [
        {
          "output_type": "execute_result",
          "data": {
            "text/plain": [
              "True"
            ]
          },
          "metadata": {},
          "execution_count": 2
        }
      ]
    },
    {
      "cell_type": "code",
      "source": [
        "!nvidia-smi"
      ],
      "metadata": {
        "colab": {
          "base_uri": "https://localhost:8080/"
        },
        "id": "3CfV_g8z4eSf",
        "outputId": "83dfc821-81a7-489c-8bf5-282f6c644691"
      },
      "execution_count": 3,
      "outputs": [
        {
          "output_type": "stream",
          "name": "stdout",
          "text": [
            "Fri Jun 17 18:17:04 2022       \n",
            "+-----------------------------------------------------------------------------+\n",
            "| NVIDIA-SMI 460.32.03    Driver Version: 460.32.03    CUDA Version: 11.2     |\n",
            "|-------------------------------+----------------------+----------------------+\n",
            "| GPU  Name        Persistence-M| Bus-Id        Disp.A | Volatile Uncorr. ECC |\n",
            "| Fan  Temp  Perf  Pwr:Usage/Cap|         Memory-Usage | GPU-Util  Compute M. |\n",
            "|                               |                      |               MIG M. |\n",
            "|===============================+======================+======================|\n",
            "|   0  Tesla T4            Off  | 00000000:00:04.0 Off |                    0 |\n",
            "| N/A   47C    P8     9W /  70W |      3MiB / 15109MiB |      0%      Default |\n",
            "|                               |                      |                  N/A |\n",
            "+-------------------------------+----------------------+----------------------+\n",
            "                                                                               \n",
            "+-----------------------------------------------------------------------------+\n",
            "| Processes:                                                                  |\n",
            "|  GPU   GI   CI        PID   Type   Process name                  GPU Memory |\n",
            "|        ID   ID                                                   Usage      |\n",
            "|=============================================================================|\n",
            "|  No running processes found                                                 |\n",
            "+-----------------------------------------------------------------------------+\n"
          ]
        }
      ]
    },
    {
      "cell_type": "code",
      "source": [
        "!nvcc --version"
      ],
      "metadata": {
        "colab": {
          "base_uri": "https://localhost:8080/"
        },
        "id": "6z42zxjC4ghQ",
        "outputId": "26eba8ce-25fc-4533-875e-49c0a96771ae"
      },
      "execution_count": 4,
      "outputs": [
        {
          "output_type": "stream",
          "name": "stdout",
          "text": [
            "nvcc: NVIDIA (R) Cuda compiler driver\n",
            "Copyright (c) 2005-2020 NVIDIA Corporation\n",
            "Built on Mon_Oct_12_20:09:46_PDT_2020\n",
            "Cuda compilation tools, release 11.1, V11.1.105\n",
            "Build cuda_11.1.TC455_06.29190527_0\n"
          ]
        }
      ]
    },
    {
      "cell_type": "code",
      "source": [
        "!pip install einops"
      ],
      "metadata": {
        "colab": {
          "base_uri": "https://localhost:8080/"
        },
        "id": "UOrV8htu5IZy",
        "outputId": "1356d5ff-26cb-4d81-851d-21ea59deb0ad"
      },
      "execution_count": 5,
      "outputs": [
        {
          "output_type": "stream",
          "name": "stdout",
          "text": [
            "Looking in indexes: https://pypi.org/simple, https://us-python.pkg.dev/colab-wheels/public/simple/\n",
            "Collecting einops\n",
            "  Downloading einops-0.4.1-py3-none-any.whl (28 kB)\n",
            "Installing collected packages: einops\n",
            "Successfully installed einops-0.4.1\n"
          ]
        }
      ]
    },
    {
      "cell_type": "code",
      "source": [
        "#Core Bottleneck Resnet from Lucidrains\n",
        "\n",
        "import math\n",
        "import torch\n",
        "from torch import nn, einsum\n",
        "\n",
        "from einops import rearrange\n",
        "\n",
        "\n",
        "def pair(x):\n",
        "    return (x, x) if not isinstance(x, tuple) else x\n",
        "\n",
        "def expand_dim(t, dim, k):\n",
        "    t = t.unsqueeze(dim = dim)\n",
        "    expand_shape = [-1] * len(t.shape)\n",
        "    expand_shape[dim] = k\n",
        "    return t.expand(*expand_shape)\n",
        "\n",
        "def rel_to_abs(x):\n",
        "    b, h, l, _, device, dtype = *x.shape, x.device, x.dtype\n",
        "    dd = {'device': device, 'dtype': dtype}\n",
        "    col_pad = torch.zeros((b, h, l, 1), **dd)\n",
        "    x = torch.cat((x, col_pad), dim = 3)\n",
        "    flat_x = rearrange(x, 'b h l c -> b h (l c)')\n",
        "    flat_pad = torch.zeros((b, h, l - 1), **dd)\n",
        "    flat_x_padded = torch.cat((flat_x, flat_pad), dim = 2)\n",
        "    final_x = flat_x_padded.reshape(b, h, l + 1, 2 * l - 1)\n",
        "    final_x = final_x[:, :, :l, (l-1):]\n",
        "    return final_x\n",
        "\n",
        "def relative_logits_1d(q, rel_k):\n",
        "    b, heads, h, w, dim = q.shape\n",
        "    logits = einsum('b h x y d, r d -> b h x y r', q, rel_k)\n",
        "    logits = rearrange(logits, 'b h x y r -> b (h x) y r')\n",
        "    logits = rel_to_abs(logits)\n",
        "    logits = logits.reshape(b, heads, h, w, w)\n",
        "    logits = expand_dim(logits, dim = 3, k = h)\n",
        "    return logits\n",
        "\n",
        "# positional embeddings\n",
        "\n",
        "class AbsPosEmb(nn.Module):\n",
        "    def __init__(\n",
        "        self,\n",
        "        fmap_size,\n",
        "        dim_head\n",
        "    ):\n",
        "        super().__init__()\n",
        "        height, width = pair(fmap_size)\n",
        "        scale = dim_head ** -0.5\n",
        "        self.height = nn.Parameter(torch.randn(height, dim_head) * scale)\n",
        "        self.width = nn.Parameter(torch.randn(width, dim_head) * scale)\n",
        "\n",
        "    def forward(self, q):\n",
        "        emb = rearrange(self.height, 'h d -> h () d') + rearrange(self.width, 'w d -> () w d')\n",
        "        emb = rearrange(emb, ' h w d -> (h w) d')\n",
        "        logits = einsum('b h i d, j d -> b h i j', q, emb)\n",
        "        return logits\n",
        "\n",
        "class RelPosEmb(nn.Module):\n",
        "    def __init__(\n",
        "        self,\n",
        "        fmap_size,\n",
        "        dim_head\n",
        "    ):\n",
        "        super().__init__()\n",
        "        height, width = pair(fmap_size)\n",
        "        scale = dim_head ** -0.5\n",
        "        self.fmap_size = fmap_size\n",
        "        self.rel_height = nn.Parameter(torch.randn(height * 2 - 1, dim_head) * scale)\n",
        "        self.rel_width = nn.Parameter(torch.randn(width * 2 - 1, dim_head) * scale)\n",
        "\n",
        "    def forward(self, q):\n",
        "        h, w = self.fmap_size\n",
        "\n",
        "        q = rearrange(q, 'b h (x y) d -> b h x y d', x = h, y = w)\n",
        "        rel_logits_w = relative_logits_1d(q, self.rel_width)\n",
        "        rel_logits_w = rearrange(rel_logits_w, 'b h x i y j-> b h (x y) (i j)')\n",
        "\n",
        "        q = rearrange(q, 'b h x y d -> b h y x d')\n",
        "        rel_logits_h = relative_logits_1d(q, self.rel_height)\n",
        "        rel_logits_h = rearrange(rel_logits_h, 'b h x i y j -> b h (y x) (j i)')\n",
        "        return rel_logits_w + rel_logits_h\n",
        "\n",
        "# classes\n",
        "\n",
        "class Attention(nn.Module):\n",
        "    def __init__(\n",
        "        self,\n",
        "        *,\n",
        "        dim,\n",
        "        fmap_size,\n",
        "        heads = 4,\n",
        "        dim_head = 128,\n",
        "        rel_pos_emb = False\n",
        "    ):\n",
        "        super().__init__()\n",
        "        self.heads = heads\n",
        "        self.scale = dim_head ** -0.5\n",
        "        inner_dim = heads * dim_head\n",
        "\n",
        "        self.to_qkv = nn.Conv2d(dim, inner_dim * 3, 1, bias = False)\n",
        "\n",
        "        rel_pos_class = AbsPosEmb if not rel_pos_emb else RelPosEmb\n",
        "        self.pos_emb = rel_pos_class(fmap_size, dim_head)\n",
        "\n",
        "    def forward(self, fmap):\n",
        "        heads, b, c, h, w = self.heads, *fmap.shape\n",
        "\n",
        "        q, k, v = self.to_qkv(fmap).chunk(3, dim = 1)\n",
        "        q, k, v = map(lambda t: rearrange(t, 'b (h d) x y -> b h (x y) d', h = heads), (q, k, v))\n",
        "\n",
        "        q = q * self.scale\n",
        "\n",
        "        sim = einsum('b h i d, b h j d -> b h i j', q, k)\n",
        "        sim = sim + self.pos_emb(q)\n",
        "\n",
        "        attn = sim.softmax(dim = -1)\n",
        "\n",
        "        out = einsum('b h i j, b h j d -> b h i d', attn, v)\n",
        "        out = rearrange(out, 'b h (x y) d -> b (h d) x y', x = h, y = w)\n",
        "        return out\n",
        "\n",
        "class BottleBlock(nn.Module):\n",
        "    def __init__(\n",
        "        self,\n",
        "        *,\n",
        "        dim,\n",
        "        fmap_size,\n",
        "        dim_out,\n",
        "        proj_factor,\n",
        "        downsample,\n",
        "        heads = 4,\n",
        "        dim_head = 128,\n",
        "        rel_pos_emb = False,\n",
        "        activation = nn.ReLU()\n",
        "    ):\n",
        "        super().__init__()\n",
        "\n",
        "        # shortcut\n",
        "\n",
        "        if dim != dim_out or downsample:\n",
        "            kernel_size, stride, padding = (3, 2, 1) if downsample else (1, 1, 0)\n",
        "\n",
        "            self.shortcut = nn.Sequential(\n",
        "                nn.Conv2d(dim, dim_out, kernel_size, stride = stride, padding = padding, bias = False),\n",
        "                nn.BatchNorm2d(dim_out),\n",
        "                activation\n",
        "            ).to('cuda:0')\n",
        "        else:\n",
        "            self.shortcut = nn.Identity()\n",
        "\n",
        "        # contraction and expansion\n",
        "\n",
        "        attn_dim_in = dim_out // proj_factor\n",
        "        attn_dim_out = heads * dim_head\n",
        "\n",
        "        self.net = nn.Sequential(\n",
        "            nn.Conv2d(dim, attn_dim_in, 1, bias = False),\n",
        "            nn.BatchNorm2d(attn_dim_in),\n",
        "            activation,\n",
        "            Attention(\n",
        "                dim = attn_dim_in,\n",
        "                fmap_size = fmap_size,\n",
        "                heads = heads,\n",
        "                dim_head = dim_head,\n",
        "                rel_pos_emb = rel_pos_emb\n",
        "            ),\n",
        "            nn.AvgPool2d((2, 2)) if downsample else nn.Identity(),\n",
        "            nn.BatchNorm2d(attn_dim_out),\n",
        "            activation,\n",
        "            nn.Conv2d(attn_dim_out, dim_out, 1, bias = False),\n",
        "            nn.BatchNorm2d(dim_out)\n",
        "        ).to('cuda:0')\n",
        "\n",
        "        # init last batch norm gamma to zero\n",
        "\n",
        "        nn.init.zeros_(self.net[-1].weight)\n",
        "\n",
        "        # final activation\n",
        "\n",
        "        self.activation = activation\n",
        "\n",
        "    def forward(self, x):\n",
        "        shortcut = self.shortcut(x)\n",
        "        x = self.net(x)\n",
        "        x = x + shortcut\n",
        "        return self.activation(x)\n",
        "\n",
        "# main bottle stack\n",
        "\n",
        "class BottleStack(nn.Module):\n",
        "    def __init__(\n",
        "        self,\n",
        "        *,\n",
        "        dim,\n",
        "        fmap_size,\n",
        "        dim_out = 2048,\n",
        "        proj_factor = 4,\n",
        "        num_layers = 3,\n",
        "        heads = 4,\n",
        "        dim_head = 128,\n",
        "        downsample = True,\n",
        "        rel_pos_emb = False,\n",
        "        activation = nn.ReLU()\n",
        "    ):\n",
        "        super().__init__()\n",
        "        fmap_size = pair(fmap_size)\n",
        "\n",
        "        self.dim = dim\n",
        "        self.fmap_size = fmap_size\n",
        "\n",
        "        layers = []\n",
        "\n",
        "        for i in range(num_layers):\n",
        "            is_first = i == 0\n",
        "            dim = (dim if is_first else dim_out)\n",
        "            layer_downsample = is_first and downsample\n",
        "\n",
        "            fmap_divisor = (2 if downsample and not is_first else 1)\n",
        "            layer_fmap_size = tuple(map(lambda t: t // fmap_divisor, fmap_size))\n",
        "\n",
        "            layers.append(BottleBlock(\n",
        "                dim = dim,\n",
        "                fmap_size = layer_fmap_size,\n",
        "                dim_out = dim_out,\n",
        "                proj_factor = proj_factor,\n",
        "                heads = heads,\n",
        "                dim_head = dim_head,\n",
        "                downsample = layer_downsample,\n",
        "                rel_pos_emb = rel_pos_emb,\n",
        "                activation = activation\n",
        "            ))\n",
        "\n",
        "        self.net = nn.Sequential(*layers)\n",
        "\n",
        "    def forward(self, x):\n",
        "        _, c, h, w = x.shape\n",
        "        assert c == self.dim, f'channels of feature map {c} must match channels given at init {self.dim}'\n",
        "        assert h == self.fmap_size[0] and w == self.fmap_size[1], f'height and width ({h} {w}) of feature map must match the fmap_size given at init {self.fmap_size}'\n",
        "        return self.net(x)"
      ],
      "metadata": {
        "id": "_QSJH8wE4lm6"
      },
      "execution_count": 8,
      "outputs": []
    },
    {
      "cell_type": "code",
      "source": [
        "\n",
        "from torchvision.models import resnet50\n",
        "layer = BottleStack(\n",
        "    dim = 256,\n",
        "    fmap_size = 56,        \n",
        "    dim_out = 2048,\n",
        "    proj_factor = 4,\n",
        "    downsample = True,\n",
        "    heads = 4,\n",
        "    dim_head = 128,\n",
        "    rel_pos_emb = True,\n",
        "    activation = nn.ReLU()\n",
        ")\n",
        "\n",
        "resnet = resnet50()\n",
        "\n",
        "backbone = list(resnet.children())\n",
        "\n",
        "model = nn.Sequential(\n",
        "    *backbone[:5],\n",
        "    layer,\n",
        "    nn.AdaptiveAvgPool2d((1, 1)),\n",
        "    nn.Flatten(1),\n",
        "    nn.Linear(2048, 1000)\n",
        ").to('cuda:0')\n",
        "model.cuda()\n",
        "\n",
        "\n",
        "model"
      ],
      "metadata": {
        "id": "RUd9soLK57DU"
      },
      "execution_count": null,
      "outputs": []
    },
    {
      "cell_type": "code",
      "source": [
        "#Model Parallelism communication over GPU-GPU\n",
        "\n",
        "from torchvision.models.resnet import ResNet, Bottleneck\n",
        "import torchvision.models as models\n",
        "\n",
        "num_batches = 3\n",
        "batch_size = 120\n",
        "image_w = 128\n",
        "image_h = 128\n",
        "num_classes = 1000\n",
        "\n",
        "#Exploit Simd MP\n",
        "class ModelParallelResNet50(ResNet):\n",
        "    def __init__(self, *args, **kwargs):\n",
        "        super(ModelParallelResNet50, self).__init__(\n",
        "            Bottleneck, [3, 4, 6, 3], num_classes=num_classes, *args, **kwargs)\n",
        "\n",
        "        self.seq1 = nn.Sequential(\n",
        "            self.conv1,\n",
        "            self.bn1,\n",
        "            self.relu,\n",
        "            self.maxpool,\n",
        "\n",
        "            self.layer1,\n",
        "            self.layer2\n",
        "        ).to('cuda:0')\n",
        "\n",
        "        self.seq2 = nn.Sequential(\n",
        "            self.layer3,\n",
        "            self.layer4,\n",
        "            self.avgpool,\n",
        "        ).to('cuda:0')\n",
        "        #can be .to('cuda:i+1')\n",
        "\n",
        "        self.fc.to('cuda:0')\n",
        "\n",
        "    def forward(self, x):\n",
        "        x = self.seq2(self.seq1(x).to('cuda:0'))\n",
        "        #can be .to('cuda:i+1')\n",
        "        return self.fc(x.view(x.size(0), -1))\n",
        "\n",
        "\n",
        "\n",
        "def train(model):\n",
        "    model.train(True)\n",
        "    loss_fn = nn.MSELoss()\n",
        "    optimizer = torch.optim.SGD(model.parameters(), lr=0.001)\n",
        "\n",
        "    one_hot_indices = torch.LongTensor(batch_size).random_(0, num_classes).view(batch_size, 1)\n",
        "\n",
        "    for _ in range(num_batches):\n",
        "        # generate random inputs and labels\n",
        "        inputs = torch.randn(batch_size, 3, image_w, image_h)\n",
        "        labels = torch.zeros(batch_size, num_classes).scatter_(1, one_hot_indices, 1)\n",
        "\n",
        "        # run forward pass\n",
        "        optimizer.zero_grad()\n",
        "        outputs = model(inputs.to('cuda:0'))\n",
        "\n",
        "        # run backward pass\n",
        "        labels = labels.to(outputs.device)\n",
        "        loss_fn(outputs, labels).backward()\n",
        "        optimizer.step()\n"
      ],
      "metadata": {
        "id": "L6hRHUHe7-8F"
      },
      "execution_count": 18,
      "outputs": []
    },
    {
      "cell_type": "code",
      "source": [
        "\n",
        "import timeit\n",
        "import numpy as np\n",
        "num_repeat = 10\n",
        "\n",
        "stmt = \"train(model)\"\n",
        "\n",
        "setup = \"model = ModelParallelResNet50()\"\n",
        "mp_run_times = timeit.repeat(stmt, setup, number=1, repeat=num_repeat, globals=globals())\n",
        "mp_mean, mp_std = np.mean(mp_run_times), np.std(mp_run_times)\n",
        "\n",
        "setup = \"import torchvision.models as models;\" +\"model = models.resnet50(num_classes=num_classes).to('cuda:0')\"\n",
        "rn_run_times = timeit.repeat(stmt, setup, number=1, repeat=num_repeat, globals=globals())\n",
        "rn_mean, rn_std = np.mean(rn_run_times), np.std(rn_run_times)\n",
        "\n"
      ],
      "metadata": {
        "id": "iC8hIMbT8wyQ"
      },
      "execution_count": 20,
      "outputs": []
    },
    {
      "cell_type": "code",
      "source": [
        "mp_run_times,rn_run_times"
      ],
      "metadata": {
        "colab": {
          "base_uri": "https://localhost:8080/"
        },
        "id": "v_JjGqYw9Zsq",
        "outputId": "dd99d404-19d6-4711-b7ab-1c81340a9f12"
      },
      "execution_count": 21,
      "outputs": [
        {
          "output_type": "execute_result",
          "data": {
            "text/plain": [
              "([1.1123716200002036,\n",
              "  1.1299691829999574,\n",
              "  1.074116351999919,\n",
              "  1.0834968939998362,\n",
              "  1.0637668520000716,\n",
              "  1.0647426460000133,\n",
              "  1.0603389860000334,\n",
              "  1.0544568430000254,\n",
              "  1.054915813999969,\n",
              "  1.0527757940001266],\n",
              " [1.0462304860000131,\n",
              "  1.0481395310000607,\n",
              "  1.0431353330000093,\n",
              "  1.040988293000055,\n",
              "  1.0490160489998743,\n",
              "  1.0621146959999805,\n",
              "  1.0407168409999485,\n",
              "  1.042717426000081,\n",
              "  1.0377378399998634,\n",
              "  1.0380829649998304])"
            ]
          },
          "metadata": {},
          "execution_count": 21
        }
      ]
    },
    {
      "cell_type": "code",
      "source": [
        "import matplotlib.pyplot as plt\n",
        "def plot(means, stds, labels, fig_name):\n",
        "    fig, ax = plt.subplots()\n",
        "    ax.bar(np.arange(len(means)), means, yerr=stds,\n",
        "           align='center', alpha=0.5, ecolor='red', capsize=10, width=0.6)\n",
        "    ax.set_ylabel('ResNet50 Execution Time (Second)')\n",
        "    ax.set_xticks(np.arange(len(means)))\n",
        "    ax.set_xticklabels(labels)\n",
        "    ax.yaxis.grid(True)\n",
        "    plt.tight_layout()\n",
        "    plt.show()\n",
        "    plt.savefig(fig_name)\n",
        "    plt.close(fig)\n",
        "\n",
        "\n",
        "plot([mp_mean, rn_mean],\n",
        "     [mp_std, rn_std],\n",
        "     ['Model Parallel', 'Single GPU'],\n",
        "     'mp_vs_rn.png')"
      ],
      "metadata": {
        "colab": {
          "base_uri": "https://localhost:8080/",
          "height": 314
        },
        "id": "ws8rLVHJ9ht_",
        "outputId": "320d1617-b348-4f0d-bb0c-7412c4b2829b"
      },
      "execution_count": 23,
      "outputs": [
        {
          "output_type": "display_data",
          "data": {
            "text/plain": [
              "<Figure size 432x288 with 1 Axes>"
            ],
            "image/png": "[encoded data removed]"
          },
          "metadata": {
            "needs_background": "light"
          }
        },
        {
          "output_type": "display_data",
          "data": {
            "text/plain": [
              "<Figure size 432x288 with 0 Axes>"
            ]
          },
          "metadata": {}
        }
      ]
    },
    {
      "cell_type": "code",
      "source": [
        "print(mp_mean,rn_mean)\n",
        "overhead_comms= abs(mp_mean/rn_mean)-1\n",
        "print(f\"{overhead_comms}% time wasted in comms.This will be more for multi tile GPUs \")\n"
      ],
      "metadata": {
        "colab": {
          "base_uri": "https://localhost:8080/"
        },
        "id": "9AXdL9d1-MhW",
        "outputId": "e164983e-38e5-4193-955a-2575448c7d43"
      },
      "execution_count": 27,
      "outputs": [
        {
          "output_type": "stream",
          "name": "stdout",
          "text": [
            "1.0750950984000156 1.0448879459999716\n",
            "0.028909465857734018% time wasted in comms.This will be more for multi tile GPUs \n"
          ]
        }
      ]
    },
    {
      "cell_type": "code",
      "source": [
        "#Applying distributed data/model parallelism\n",
        "\n",
        "class DataModelParallelismResNet50(ModelParallelResNet50):\n",
        "    def __init__(self, split_size, *args, **kwargs):\n",
        "        super(DataModelParallelismResNet50, self).__init__(*args, **kwargs)\n",
        "        self.split_size = split_size\n",
        "\n",
        "    def forward(self, x):\n",
        "        splits = iter(x.split(self.split_size, dim=0))\n",
        "        s_next = next(splits)\n",
        "        #can be cuda i+1\n",
        "        s_prev = self.seq1(s_next).to('cuda:0')\n",
        "        ret = []\n",
        "\n",
        "        #standard loop /dataloader for iterating on splits\n",
        "        for s_next in splits:\n",
        "            # A. s_prev runs on cuda:i+1\n",
        "            #load prev bytestream to sequential 2 on cuda i+1\n",
        "            s_prev = self.seq2(s_prev)\n",
        "            ret.append(self.fc(s_prev.view(s_prev.size(0), -1)))\n",
        "\n",
        "            # B. s_next runs on cuda:i, which can run concurrently with A\n",
        "            s_prev = self.seq1(s_next).to('cuda:0')\n",
        "\n",
        "        s_prev = self.seq2(s_prev)\n",
        "        ret.append(self.fc(s_prev.view(s_prev.size(0), -1)))\n",
        "\n",
        "        return torch.cat(ret)\n",
        "#shard into 120/5 splits \n",
        "setup = \"model = DataModelParallelismResNet50(5)\"\n",
        "stmt = \"train(model)\"\n",
        "dmp_run_times = timeit.repeat( stmt, setup, number=1, repeat=num_repeat, globals=globals())\n",
        "dmp_mean, dmp_std = np.mean(dmp_run_times), np.std(dmp_run_times)\n",
        "dmp_mean,dmp_std"
      ],
      "metadata": {
        "colab": {
          "base_uri": "https://localhost:8080/"
        },
        "id": "mn1HePqgAWAr",
        "outputId": "0522118c-88e8-444b-8974-5351dd12d490"
      },
      "execution_count": 31,
      "outputs": [
        {
          "output_type": "execute_result",
          "data": {
            "text/plain": [
              "(2.87293254160013, 0.19101611091171994)"
            ]
          },
          "metadata": {},
          "execution_count": 31
        }
      ]
    },
    {
      "cell_type": "code",
      "source": [
        "plot([mp_mean, dmp_mean],\n",
        "     [mp_std, dmp_std],\n",
        "     [' Model Parallel', ' Data Model Parallel '],\n",
        "     'mp_vs_rn.png')\n",
        "\n"
      ],
      "metadata": {
        "colab": {
          "base_uri": "https://localhost:8080/",
          "height": 314
        },
        "id": "2X3IhO9-DXgy",
        "outputId": "d1a2e847-2f8e-4618-b3a5-6b195ae9f29e"
      },
      "execution_count": 34,
      "outputs": [
        {
          "output_type": "display_data",
          "data": {
            "text/plain": [
              "<Figure size 432x288 with 1 Axes>"
            ],
            "image/png": "[encoded data removed]"
          },
          "metadata": {
            "needs_background": "light"
          }
        },
        {
          "output_type": "display_data",
          "data": {
            "text/plain": [
              "<Figure size 432x288 with 0 Axes>"
            ]
          },
          "metadata": {}
        }
      ]
    },
    {
      "cell_type": "code",
      "source": [
        "overhead_comms= abs(dmp_mean/mp_mean)-1\n",
        "print(f\"{overhead_comms}% time wasted in dmp comms since we have a single GPU.This will be less for multi tile GPUs \")\n"
      ],
      "metadata": {
        "colab": {
          "base_uri": "https://localhost:8080/"
        },
        "id": "jT4Z2P3ZDsj7",
        "outputId": "8753ecf0-9927-4a4a-d4b0-3fd9e42d741d"
      },
      "execution_count": 35,
      "outputs": [
        {
          "output_type": "stream",
          "name": "stdout",
          "text": [
            "1.6722589898100204% time wasted in dmp comms since we have a single GPU.This will be less for multi tile GPUs \n"
          ]
        }
      ]
    }
  ]
}